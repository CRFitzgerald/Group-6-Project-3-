{
 "cells": [
  {
   "cell_type": "code",
   "execution_count": 2,
   "id": "3c4befed",
   "metadata": {},
   "outputs": [],
   "source": [
    "from bs4 import BeautifulSoup\n",
    "import requests"
   ]
  },
  {
   "cell_type": "code",
   "execution_count": 3,
   "id": "3e59f51b",
   "metadata": {},
   "outputs": [],
   "source": [
    "import json"
   ]
  },
  {
   "cell_type": "code",
   "execution_count": null,
   "id": "d5228acd",
   "metadata": {},
   "outputs": [],
   "source": []
  },
  {
   "cell_type": "code",
   "execution_count": 4,
   "id": "d777a8d4",
   "metadata": {},
   "outputs": [],
   "source": [
    "base_url = 'https://www.amazon.com'\n",
    "product_page_url = f\"{base_url}/s?i=specialty-aps&srs=17296221011&rh=n%3A17296221011&fs=true&qid=1680239013&ref=sr_pg_2&page=\""
   ]
  },
  {
   "cell_type": "code",
   "execution_count": 5,
   "id": "19bfe5c1",
   "metadata": {},
   "outputs": [],
   "source": [
    "HEADERS = ({'User-Agent':\n",
    "        'Mozilla/5.0 (X11; Linux x86_64) AppleWebKit/537.36 (KHTML, like Gecko) Chrome/44.0.2403.157 Safari/537.36',\n",
    "        'Accept-Language': 'en-US, en;q=0.5'})"
   ]
  },
  {
   "cell_type": "code",
   "execution_count": null,
   "id": "7facd7ff",
   "metadata": {},
   "outputs": [],
   "source": []
  },
  {
   "cell_type": "code",
   "execution_count": 6,
   "id": "d7b1dee9",
   "metadata": {
    "scrolled": true
   },
   "outputs": [],
   "source": [
    "##image\n",
    "def getImage(div):\n",
    "    try:\n",
    "        return div.find('img', {'class': 's-image'}).attrs['src']\n",
    "    except:\n",
    "        return ''\n",
    "\n",
    "## returns https://m.media-amazon.com/images/I/71ok9jCkgVL._AC_UY218_.jpg"
   ]
  },
  {
   "cell_type": "code",
   "execution_count": 7,
   "id": "8b4bf018",
   "metadata": {},
   "outputs": [],
   "source": [
    "## title\n",
    "def getTitle(div):\n",
    "    try:\n",
    "        return div.find('h2').text.strip()\n",
    "    except:\n",
    "        return ''\n",
    "\n",
    "##returns Lessons in Chemistry: A Novel"
   ]
  },
  {
   "cell_type": "code",
   "execution_count": 8,
   "id": "be2ee1d4",
   "metadata": {},
   "outputs": [],
   "source": [
    "## prod link\n",
    "def getProdLink(div):\n",
    "    return div.find('span', {'data-component-type': 's-product-image'}).find('a').attrs[\"href\"]\n",
    "\n",
    "## returns /Lessons-in-Chemistry-A-Novel/dp/B09BBK79VB/ref=sr_1_1?qid=1680240999&sr=8-1&srs=17296221011"
   ]
  },
  {
   "cell_type": "code",
   "execution_count": 9,
   "id": "b0025c52",
   "metadata": {},
   "outputs": [],
   "source": [
    "## author\n",
    "def getAuthor(div):\n",
    "    try:\n",
    "        return div.find('h2').next_sibling()[0].text.replace('by', '').strip()\n",
    "    except:\n",
    "        return ''\n",
    "\n",
    "## returns Bonnie Garmus, Miranda Raison, et al."
   ]
  },
  {
   "cell_type": "code",
   "execution_count": 10,
   "id": "53e5282b",
   "metadata": {},
   "outputs": [],
   "source": [
    "## rating\n",
    "def getRating(div):\n",
    "    try:\n",
    "        return div.find('div', {'class': 'a-row a-size-small'}).find('span', {'class': 'a-size-base'}).text\n",
    "    except:\n",
    "        return '0'\n",
    "\n",
    "## returns 4.6"
   ]
  },
  {
   "cell_type": "code",
   "execution_count": 11,
   "id": "8bbbc2d7",
   "metadata": {},
   "outputs": [],
   "source": [
    "## total reviews\n",
    "def getReviewCount(div):\n",
    "    try:\n",
    "        return div.find('div', {'class': 'a-row a-size-small'}).find('span').next_sibling.attrs[\"aria-label\"]\n",
    "    except:\n",
    "        return '0'\n",
    "\n",
    "## returns 126,027"
   ]
  },
  {
   "cell_type": "code",
   "execution_count": null,
   "id": "05feea79",
   "metadata": {},
   "outputs": [],
   "source": []
  },
  {
   "cell_type": "code",
   "execution_count": 12,
   "id": "e5c77601",
   "metadata": {},
   "outputs": [],
   "source": [
    "## publisher\n",
    "def getPublisher(product_soup):\n",
    "    try:\n",
    "        return product_soup.find('div', {'id': 'rpi-attribute-audiobook_details-publisher'}).find(\n",
    "            'div', {'class': 'rpi-attribute-value'}).text.strip()\n",
    "    except:\n",
    "        try:\n",
    "            return product_soup.find('div', {'id': 'rpi-attribute-book_details-publisher'}).find(\n",
    "                'div', {'class': 'rpi-attribute-value'}).text.strip()\n",
    "        except:\n",
    "            pass\n",
    "    return ''\n",
    "\n",
    "## returns Random House Audio"
   ]
  },
  {
   "cell_type": "code",
   "execution_count": 13,
   "id": "fc618490",
   "metadata": {},
   "outputs": [],
   "source": [
    "## publish date\n",
    "def getPublishDate(product_soup):\n",
    "    try:\n",
    "        return product_soup.find('div', {'id': 'rpi-attribute-audiobook_details-release-date'}).find(\n",
    "            'div', {'class': 'rpi-attribute-value'}).text.strip()\n",
    "    except:\n",
    "        try:\n",
    "            return product_soup.find('div', {'id': 'rpi-attribute-book_details-publication_date'}).find(\n",
    "                'div', {'class': 'a-section a-spacing-none a-text-center rpi-attribute-value'}).text.strip()\n",
    "        except:\n",
    "            pass\n",
    "        return 'Jan 1, 1970'\n",
    "\n",
    "##returns April 5, 2022"
   ]
  },
  {
   "cell_type": "code",
   "execution_count": 14,
   "id": "12287b62",
   "metadata": {},
   "outputs": [],
   "source": [
    "##prices\n",
    "def getPrices(product_soup):\n",
    "    try:\n",
    "        prices_list = product_soup.find_all('li', { 'class': 'swatchElement' })\n",
    "        prices = {}\n",
    "        for p in prices_list:\n",
    "            tokens = p.find('a').text.split()\n",
    "            type, cost = tokens[0], tokens[-1]\n",
    "            prices[type] = cost\n",
    "        return prices\n",
    "    except:\n",
    "        return {}\n",
    "\n",
    "\n",
    "##returns {'Kindle': '$14.99',\n",
    "##         'Audiobook': '$0.00',\n",
    "##         'Hardcover': '$17.99',\n",
    "##         'Paperback': '$27.90',\n",
    "##        'Spiral-bound': '$37.81'}"
   ]
  },
  {
   "cell_type": "code",
   "execution_count": null,
   "id": "21df3298",
   "metadata": {},
   "outputs": [],
   "source": []
  },
  {
   "cell_type": "code",
   "execution_count": 15,
   "id": "d6bc2ba8",
   "metadata": {},
   "outputs": [],
   "source": [
    "# breakdown for ratings\n",
    "# 1, 2, 3, 4, 5"
   ]
  },
  {
   "cell_type": "code",
   "execution_count": 16,
   "id": "3e2d5944",
   "metadata": {},
   "outputs": [],
   "source": [
    "def getRatingBreakdown(product_soup):\n",
    "    try:\n",
    "        return [p.text.strip()[:-1] for p in product_soup.find(\n",
    "            'table', {'id': 'histogramTable'}\n",
    "        ).find_all('span', { 'class': 'a-size-base' })[1::2][::-1]]\n",
    "    except:\n",
    "        return [0,0,0,0,0]\n",
    "\n",
    "## return ['1', '1', '6', '20', '72']"
   ]
  },
  {
   "cell_type": "code",
   "execution_count": 17,
   "id": "1175ea1c",
   "metadata": {},
   "outputs": [],
   "source": [
    "## ranking\n",
    "def getRanking(product_soup):\n",
    "    ranking_tr = []\n",
    "    try:\n",
    "        ranking_tr = product_soup.find(\n",
    "            'span', {'id': 'audibleProductDetailsSalesRank'}\n",
    "        ).find('td').find('span').find_all('span')\n",
    "    except:\n",
    "        try:\n",
    "            ranking_tr = product_soup.find(\n",
    "                'ul', {'class': 'a-unordered-list a-nostyle a-vertical a-spacing-none detail-bullet-list'}\n",
    "            ).find('ul').find_all('li')\n",
    "        except:\n",
    "            pass\n",
    "    return [t.text for t in ranking_tr]\n",
    "\n",
    "##returns ['#5 in Audible Books & Originals (See Top 100 in Audible Books & Originals)',\n",
    "##         '#1 in Historical Fiction (Books)',\n",
    "##         '#1 in Historical Fiction (Audible Books & Originals)',\n",
    "##         '#1 in Humorous Fiction & Satire']\n"
   ]
  },
  {
   "cell_type": "code",
   "execution_count": null,
   "id": "356ea0a7",
   "metadata": {},
   "outputs": [],
   "source": []
  },
  {
   "cell_type": "code",
   "execution_count": 18,
   "id": "70bb4162",
   "metadata": {},
   "outputs": [],
   "source": [
    "pages = 7"
   ]
  },
  {
   "cell_type": "code",
   "execution_count": 19,
   "id": "d355ab2c",
   "metadata": {},
   "outputs": [],
   "source": [
    "result = []"
   ]
  },
  {
   "cell_type": "code",
   "execution_count": 24,
   "id": "d0f67520",
   "metadata": {
    "scrolled": false
   },
   "outputs": [
    {
     "name": "stdout",
     "output_type": "stream",
     "text": [
      "Lessons in Chemistry: A Novel\n",
      "Tomorrow, and Tomorrow, and Tomorrow: A novel\n",
      "Demon Copperhead: An Oprah's Book Club Pick\n",
      "Remarkably Bright Creatures: A Read with Jenna Pick\n",
      "Reminders of Him: A Novel\n",
      "Mad Honey: A Novel\n",
      "I'm Glad My Mom Died\n",
      "Horse: A Novel\n",
      "Fairy Tale\n",
      "Lighter: Let Go of the Past, Connect with the Present, and Expand the Future\n",
      "Finding Me: An Oprah's Book Club Pick\n",
      "Carrie Soto Is Back: A Novel\n",
      "An Immense World: How Animal Senses Reveal the Hidden Realms Around Us\n",
      "Our Missing Hearts: A Novel\n",
      "Friends, Lovers, and the Big Terrible Thing: A Memoir\n",
      "Surrender: 40 Songs, One Story\n"
     ]
    }
   ],
   "source": [
    "for p in range(1, pages+1):\n",
    "    page_url = f\"{product_page_url}{p}\"\n",
    "    \n",
    "    resp = requests.get(page_url, headers=HEADERS)\n",
    "    soup = BeautifulSoup(resp.content, \"html\")\n",
    "    book_items = soup.find_all(\"div\", attrs={\"data-component-type\":'s-search-result'})\n",
    "    \n",
    "    for book in book_items:\n",
    "        book_details  = {}\n",
    "        book_details[\"image\"] = getImage(book)\n",
    "        book_details[\"title\"] = getTitle(book)\n",
    "        book_details[\"author\"] = getAuthor(book)\n",
    "        book_details[\"rating\"] = getRating(book)\n",
    "        book_details[\"review_count\"] = getReviewCount(book)\n",
    "        try:\n",
    "            link = getProdLink(book)\n",
    "            book_details[\"product_link\"] = link\n",
    "            product_url = f\"{base_url}{link}\"\n",
    "\n",
    "\n",
    "            prod_resp = requests.get(product_url, headers=HEADERS)\n",
    "            product_soup = BeautifulSoup(prod_resp.content, 'html')\n",
    "\n",
    "            book_details[\"publisher\"] = getPublisher(product_soup)\n",
    "            book_details[\"publish_date\"] = getPublishDate(product_soup)\n",
    "            book_details[\"prices\"] = getPrices(product_soup)\n",
    "            book_details[\"rating_breakdown\"] = getRatingBreakdown(product_soup)\n",
    "            book_details[\"ranking\"] = getRanking(product_soup)\n",
    "        except:\n",
    "            print(\"couldnt load product page\")\n",
    "            pass\n",
    "        result.append(book_details)\n",
    "        print(book_details[\"title\"])"
   ]
  },
  {
   "cell_type": "code",
   "execution_count": null,
   "id": "29fd40f9",
   "metadata": {},
   "outputs": [],
   "source": []
  },
  {
   "cell_type": "code",
   "execution_count": 25,
   "id": "52d67c89",
   "metadata": {},
   "outputs": [
    {
     "data": {
      "text/plain": [
       "[{'image': 'https://m.media-amazon.com/images/W/IMAGERENDERING_521856-T1/images/I/71yNgTMEcpL._AC_UY218_.jpg',\n",
       "  'title': 'Lessons in Chemistry: A Novel',\n",
       "  'author': 'Bonnie Garmus  | Apr 5, 2022',\n",
       "  'rating': '4.6',\n",
       "  'review_count': '129,546',\n",
       "  'product_link': '/Lessons-Chemistry-Novel-Bonnie-Garmus/dp/038554734X/ref=sr_1_1?qid=1680739440&sr=8-1&srs=17296221011',\n",
       "  'publisher': '',\n",
       "  'publish_date': 'Jan 1, 1970',\n",
       "  'prices': {},\n",
       "  'rating_breakdown': [0, 0, 0, 0, 0],\n",
       "  'ranking': []},\n",
       " {'image': 'https://m.media-amazon.com/images/W/IMAGERENDERING_521856-T1/images/I/91VcwLdcNHL._AC_UY218_.jpg',\n",
       "  'title': 'Tomorrow, and Tomorrow, and Tomorrow: A novel',\n",
       "  'author': 'Gabrielle Zevin  | Jul 5, 2022',\n",
       "  'rating': '4.4',\n",
       "  'review_count': '39,320',\n",
       "  'product_link': '/Tomorrow-novel-Gabrielle-Zevin/dp/0593321200/ref=sr_1_2?qid=1680739440&sr=8-2&srs=17296221011',\n",
       "  'publisher': '',\n",
       "  'publish_date': 'Jan 1, 1970',\n",
       "  'prices': {},\n",
       "  'rating_breakdown': [0, 0, 0, 0, 0],\n",
       "  'ranking': []},\n",
       " {'image': 'https://m.media-amazon.com/images/W/IMAGERENDERING_521856-T1/images/I/91mP0HKLEwL._AC_UY218_.jpg',\n",
       "  'title': \"Demon Copperhead: An Oprah's Book Club Pick\",\n",
       "  'author': 'Barbara Kingsolver  | Oct 18, 2022',\n",
       "  'rating': '4.6',\n",
       "  'review_count': '29,208',\n",
       "  'product_link': '/Demon-Copperhead-Novel-Barbara-Kingsolver/dp/0063251922/ref=sr_1_3?qid=1680739440&sr=8-3&srs=17296221011',\n",
       "  'publisher': '',\n",
       "  'publish_date': 'Jan 1, 1970',\n",
       "  'prices': {},\n",
       "  'rating_breakdown': [0, 0, 0, 0, 0],\n",
       "  'ranking': []},\n",
       " {'image': 'https://m.media-amazon.com/images/W/IMAGERENDERING_521856-T1/images/I/81X7rAcaQkL._AC_UY218_.jpg',\n",
       "  'title': 'Remarkably Bright Creatures: A Read with Jenna Pick',\n",
       "  'author': 'Shel Van Pelt  | May 3, 2022',\n",
       "  'rating': '4.6',\n",
       "  'review_count': '22,406',\n",
       "  'product_link': '/Remarkably-Bright-Creatures-Shelby-Pelt/dp/0063204150/ref=sr_1_4?qid=1680739440&sr=8-4&srs=17296221011',\n",
       "  'publisher': '',\n",
       "  'publish_date': 'Jan 1, 1970',\n",
       "  'prices': {},\n",
       "  'rating_breakdown': [0, 0, 0, 0, 0],\n",
       "  'ranking': []},\n",
       " {'image': 'https://m.media-amazon.com/images/W/IMAGERENDERING_521856-T1/images/I/617uZq23IPL._AC_UY218_.jpg',\n",
       "  'title': 'Reminders of Him: A Novel',\n",
       "  'author': 'Colleen Hoover  | Jan 18, 2022',\n",
       "  'rating': '4.7',\n",
       "  'review_count': '208,486',\n",
       "  'product_link': '/Reminders-Him-Novel-Colleen-Hoover/dp/1542025605/ref=sr_1_5?qid=1680739440&sr=8-5&srs=17296221011',\n",
       "  'publisher': '',\n",
       "  'publish_date': 'Jan 1, 1970',\n",
       "  'prices': {},\n",
       "  'rating_breakdown': [0, 0, 0, 0, 0],\n",
       "  'ranking': []},\n",
       " {'image': 'https://m.media-amazon.com/images/W/IMAGERENDERING_521856-T1/images/I/A1ymg0b1mLL._AC_UY218_.jpg',\n",
       "  'title': 'Mad Honey: A Novel',\n",
       "  'author': 'Jodi Picoult  and Jennifer Finney Boylan  | Oct 4, 2022',\n",
       "  'rating': '4.4',\n",
       "  'review_count': '23,209',\n",
       "  'product_link': '/Mad-Honey-Novel-Jodi-Picoult/dp/1984818384/ref=sr_1_6?qid=1680739440&sr=8-6&srs=17296221011',\n",
       "  'publisher': '',\n",
       "  'publish_date': 'Jan 1, 1970',\n",
       "  'prices': {},\n",
       "  'rating_breakdown': [0, 0, 0, 0, 0],\n",
       "  'ranking': []},\n",
       " {'image': 'https://m.media-amazon.com/images/W/IMAGERENDERING_521856-T1/images/I/71x3UZ18tmL._AC_UY218_.jpg',\n",
       "  'title': \"I'm Glad My Mom Died\",\n",
       "  'author': 'Jennette McCurdy | Aug 9, 2022',\n",
       "  'rating': '4.7',\n",
       "  'review_count': '46,736',\n",
       "  'product_link': '/Im-Glad-My-Mom-Died/dp/1982185821/ref=sr_1_7?qid=1680739440&sr=8-7&srs=17296221011',\n",
       "  'publisher': '',\n",
       "  'publish_date': 'Jan 1, 1970',\n",
       "  'prices': {},\n",
       "  'rating_breakdown': [0, 0, 0, 0, 0],\n",
       "  'ranking': []},\n",
       " {'image': 'https://m.media-amazon.com/images/W/IMAGERENDERING_521856-T1/images/I/81Kc9t8XGWL._AC_UY218_.jpg',\n",
       "  'title': 'Horse: A Novel',\n",
       "  'author': 'Geraldine Brooks  | Jun 14, 2022',\n",
       "  'rating': '4.6',\n",
       "  'review_count': '21,504',\n",
       "  'product_link': '/Horse-Novel-Geraldine-Brooks/dp/0399562966/ref=sr_1_8?qid=1680739440&sr=8-8&srs=17296221011',\n",
       "  'publisher': '',\n",
       "  'publish_date': 'Jan 1, 1970',\n",
       "  'prices': {},\n",
       "  'rating_breakdown': [0, 0, 0, 0, 0],\n",
       "  'ranking': []},\n",
       " {'image': 'https://m.media-amazon.com/images/W/IMAGERENDERING_521856-T1/images/I/81blQfKsLtL._AC_UY218_.jpg',\n",
       "  'title': 'Fairy Tale',\n",
       "  'author': 'Stephen King  | Sep 6, 2022',\n",
       "  'rating': '4.6',\n",
       "  'review_count': '41,905',\n",
       "  'product_link': '/Fairy-Tale-Stephen-King/dp/1668002175/ref=sr_1_9?qid=1680739440&sr=8-9&srs=17296221011',\n",
       "  'publisher': '',\n",
       "  'publish_date': 'Jan 1, 1970',\n",
       "  'prices': {},\n",
       "  'rating_breakdown': [0, 0, 0, 0, 0],\n",
       "  'ranking': []},\n",
       " {'image': 'https://m.media-amazon.com/images/W/IMAGERENDERING_521856-T1/images/I/91lgm-V5fqL._AC_UY218_.jpg',\n",
       "  'title': 'Lighter: Let Go of the Past, Connect with the Present, and Expand the Future',\n",
       "  'author': 'Yung Pueblo  | Oct 4, 2022',\n",
       "  'rating': '4.7',\n",
       "  'review_count': '1,358',\n",
       "  'product_link': '/Lighter-Connect-Present-Expand-Future/dp/0593233174/ref=sr_1_10?qid=1680739440&sr=8-10&srs=17296221011',\n",
       "  'publisher': '',\n",
       "  'publish_date': 'Jan 1, 1970',\n",
       "  'prices': {},\n",
       "  'rating_breakdown': [0, 0, 0, 0, 0],\n",
       "  'ranking': []},\n",
       " {'image': 'https://m.media-amazon.com/images/W/IMAGERENDERING_521856-T1/images/I/81gY7WA6ZHL._AC_UY218_.jpg',\n",
       "  'title': \"Finding Me: An Oprah's Book Club Pick\",\n",
       "  'author': 'Viola Davis  | Apr 26, 2022',\n",
       "  'rating': '4.8',\n",
       "  'review_count': '15,642',\n",
       "  'product_link': '/Finding-Me-Memoir-Viola-Davis/dp/0063037327/ref=sr_1_11?qid=1680739440&sr=8-11&srs=17296221011',\n",
       "  'publisher': 'HarperOne',\n",
       "  'publish_date': 'April 26, 2022',\n",
       "  'prices': {'Kindle': '$11.99',\n",
       "   'Audiobook': '$0.00',\n",
       "   'Hardcover': '$18.48',\n",
       "   'Paperback': '$13.48',\n",
       "   'Audio': '$33.27'},\n",
       "  'rating_breakdown': ['1', '1', '3', '9', '87'],\n",
       "  'ranking': []},\n",
       " {'image': 'https://m.media-amazon.com/images/W/IMAGERENDERING_521856-T1/images/I/A1CA4NxU9SL._AC_UY218_.jpg',\n",
       "  'title': 'Carrie Soto Is Back: A Novel',\n",
       "  'author': 'Taylor Jenkins Reid  | Aug 30, 2022',\n",
       "  'rating': '4.4',\n",
       "  'review_count': '21,029',\n",
       "  'product_link': '/Carrie-Soto-Back-Taylor-Jenkins/dp/0593158687/ref=sr_1_12?qid=1680739440&sr=8-12&srs=17296221011',\n",
       "  'publisher': '',\n",
       "  'publish_date': 'Jan 1, 1970',\n",
       "  'prices': {},\n",
       "  'rating_breakdown': [0, 0, 0, 0, 0],\n",
       "  'ranking': []},\n",
       " {'image': 'https://m.media-amazon.com/images/W/IMAGERENDERING_521856-T1/images/I/81yaQi098gL._AC_UY218_.jpg',\n",
       "  'title': 'An Immense World: How Animal Senses Reveal the Hidden Realms Around Us',\n",
       "  'author': 'Ed Yong  | Jun 21, 2022',\n",
       "  'rating': '4.7',\n",
       "  'review_count': '2,218',\n",
       "  'product_link': '/Immense-World-Animal-Senses-Reveal/dp/0593133234/ref=sr_1_13?qid=1680739440&sr=8-13&srs=17296221011',\n",
       "  'publisher': 'Random House',\n",
       "  'publish_date': 'June 21, 2022',\n",
       "  'prices': {'Kindle': '$18.99',\n",
       "   'Audiobook': '$0.00',\n",
       "   'Hardcover': '$24.99',\n",
       "   'Paperback': '$21.16'},\n",
       "  'rating_breakdown': ['1', '1', '3', '14', '80'],\n",
       "  'ranking': []},\n",
       " {'image': 'https://m.media-amazon.com/images/W/IMAGERENDERING_521856-T1/images/I/81dsTaJpn8L._AC_UY218_.jpg',\n",
       "  'title': 'Our Missing Hearts: A Novel',\n",
       "  'author': 'Celeste Ng  | Oct 4, 2022',\n",
       "  'rating': '4.3',\n",
       "  'review_count': '12,381',\n",
       "  'product_link': '/Our-Missing-Hearts-Celeste-Ng/dp/0593492544/ref=sr_1_14?qid=1680739440&sr=8-14&srs=17296221011',\n",
       "  'publisher': '',\n",
       "  'publish_date': 'Jan 1, 1970',\n",
       "  'prices': {},\n",
       "  'rating_breakdown': [0, 0, 0, 0, 0],\n",
       "  'ranking': []},\n",
       " {'image': 'https://m.media-amazon.com/images/W/IMAGERENDERING_521856-T1/images/I/81tdvyI0MeL._AC_UY218_.jpg',\n",
       "  'title': 'Friends, Lovers, and the Big Terrible Thing: A Memoir',\n",
       "  'author': 'Matthew Perry  | Nov 1, 2022',\n",
       "  'rating': '4.4',\n",
       "  'review_count': '18,724',\n",
       "  'product_link': '/Friends-Lovers-Big-Terrible-Thing/dp/1250866448/ref=sr_1_15?qid=1680739440&sr=8-15&srs=17296221011',\n",
       "  'publisher': '',\n",
       "  'publish_date': 'Jan 1, 1970',\n",
       "  'prices': {},\n",
       "  'rating_breakdown': [0, 0, 0, 0, 0],\n",
       "  'ranking': []},\n",
       " {'image': 'https://m.media-amazon.com/images/W/IMAGERENDERING_521856-T1/images/I/91Ogy+1WEPL._AC_UY218_.jpg',\n",
       "  'title': 'Surrender: 40 Songs, One Story',\n",
       "  'author': 'Bono  | Nov 1, 2022',\n",
       "  'rating': '4.6',\n",
       "  'review_count': '2,103',\n",
       "  'product_link': '/Surrender-40-Songs-One-Story/dp/0525521046/ref=sr_1_16?qid=1680739440&sr=8-16&srs=17296221011',\n",
       "  'publisher': '',\n",
       "  'publish_date': 'Jan 1, 1970',\n",
       "  'prices': {},\n",
       "  'rating_breakdown': [0, 0, 0, 0, 0],\n",
       "  'ranking': []}]"
      ]
     },
     "execution_count": 25,
     "metadata": {},
     "output_type": "execute_result"
    }
   ],
   "source": [
    "[r for r in result if r[\"ranking\"]==[]]"
   ]
  },
  {
   "cell_type": "code",
   "execution_count": null,
   "id": "5e02b28a",
   "metadata": {},
   "outputs": [],
   "source": []
  },
  {
   "cell_type": "code",
   "execution_count": 22,
   "id": "d2c9e572",
   "metadata": {},
   "outputs": [],
   "source": [
    "f = open('output-full.json', 'w')"
   ]
  },
  {
   "cell_type": "code",
   "execution_count": 23,
   "id": "77bac828",
   "metadata": {},
   "outputs": [],
   "source": [
    "json.dump(result, f)"
   ]
  },
  {
   "cell_type": "code",
   "execution_count": 102,
   "id": "44a6c9fb",
   "metadata": {},
   "outputs": [],
   "source": [
    "f.close()"
   ]
  },
  {
   "cell_type": "code",
   "execution_count": null,
   "id": "67792431",
   "metadata": {},
   "outputs": [],
   "source": []
  }
 ],
 "metadata": {
  "kernelspec": {
   "display_name": "Python 3 (ipykernel)",
   "language": "python",
   "name": "python3"
  },
  "language_info": {
   "codemirror_mode": {
    "name": "ipython",
    "version": 3
   },
   "file_extension": ".py",
   "mimetype": "text/x-python",
   "name": "python",
   "nbconvert_exporter": "python",
   "pygments_lexer": "ipython3",
   "version": "3.7.15"
  }
 },
 "nbformat": 4,
 "nbformat_minor": 5
}
