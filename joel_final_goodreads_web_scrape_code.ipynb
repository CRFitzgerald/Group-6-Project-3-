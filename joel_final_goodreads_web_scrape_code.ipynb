{
 "cells": [
  {
   "cell_type": "code",
   "execution_count": 77,
   "id": "2b7adbb4",
   "metadata": {},
   "outputs": [],
   "source": [
    "from bs4 import BeautifulSoup\n",
    "import requests\n",
    "import pymongo\n",
    "import pandas as pd"
   ]
  },
  {
   "cell_type": "code",
   "execution_count": 78,
   "id": "d7934f93",
   "metadata": {},
   "outputs": [],
   "source": [
    "url = \"https://www.goodreads.com/list/show/19.Best_for_Book_Clubs\"\n",
    "response = requests.get(url)\n",
    "soup = BeautifulSoup(response.text, 'html.parser')"
   ]
  },
  {
   "cell_type": "code",
   "execution_count": 79,
   "id": "0e940a0f",
   "metadata": {},
   "outputs": [
    {
     "data": {
      "text/plain": [
       "<tr itemscope=\"\" itemtype=\"http://schema.org/Book\">\n",
       "<td class=\"number\" valign=\"top\">1</td>\n",
       "<td valign=\"top\" width=\"5%\">\n",
       "<div class=\"u-anchorTarget\" id=\"4667024\"></div>\n",
       "<div class=\"js-tooltipTrigger tooltipTrigger\" data-resource-id=\"4667024\" data-resource-type=\"Book\">\n",
       "<a href=\"/book/show/4667024-the-help\" title=\"The Help\">\n",
       "<img alt=\"The Help\" class=\"bookCover\" itemprop=\"image\" src=\"https://i.gr-assets.com/images/S/compressed.photo.goodreads.com/books/1622355533i/4667024._SY75_.jpg\"/>\n",
       "</a> </div>\n",
       "</td>\n",
       "<td valign=\"top\" width=\"100%\">\n",
       "<a class=\"bookTitle\" href=\"/book/show/4667024-the-help\" itemprop=\"url\">\n",
       "<span aria-level=\"4\" itemprop=\"name\" role=\"heading\">The Help</span>\n",
       "</a> <br>\n",
       "<span class=\"by\">by</span>\n",
       "<span itemprop=\"author\" itemscope=\"\" itemtype=\"http://schema.org/Person\">\n",
       "<div class=\"authorName__container\">\n",
       "<a class=\"authorName\" href=\"https://www.goodreads.com/author/show/1943477.Kathryn_Stockett\" itemprop=\"url\"><span itemprop=\"name\">Kathryn Stockett</span></a> <span class=\"greyText\">(Goodreads Author)</span>\n",
       "</div>\n",
       "</span>\n",
       "<br/>\n",
       "<div>\n",
       "<span class=\"greyText smallText uitext\">\n",
       "<span class=\"minirating\"><span class=\"stars staticStars notranslate\"><span class=\"staticStar p10\" size=\"12x12\"></span><span class=\"staticStar p10\" size=\"12x12\"></span><span class=\"staticStar p10\" size=\"12x12\"></span><span class=\"staticStar p10\" size=\"12x12\"></span><span class=\"staticStar p3\" size=\"12x12\"></span></span> 4.47 avg rating — 2,588,936 ratings</span>\n",
       "</span>\n",
       "</div>\n",
       "<div style=\"margin-top: 5px\">\n",
       "<span class=\"smallText uitext\">\n",
       "<a href=\"#\" onclick=\"Lightbox.showBoxByID('score_explanation', 300); return false;\">score: 219,223</a>,\n",
       "              <span class=\"greyText\">and</span>\n",
       "<a href=\"#\" id=\"loading_link_379180\" onclick=\"new Ajax.Request('/list/list_book/1974894', {asynchronous:true, evalScripts:true, onFailure:function(request){Element.hide('loading_anim_379180');$('loading_link_379180').innerHTML = '&lt;span class=&quot;error&quot;&gt;ERROR&lt;/span&gt;try again';$('loading_link_379180').show();;Element.hide('loading_anim_379180');}, onLoading:function(request){;Element.show('loading_anim_379180');Element.hide('loading_link_379180')}, onSuccess:function(request){Element.hide('loading_anim_379180');Element.show('loading_link_379180');}, parameters:'authenticity_token=' + encodeURIComponent('2Z6Kkc+0cZNwqM0f29c30foPvkBp8sloUDbCp+Z7Ou2w2goMwWUhibEizC3ycMZX1N3pD2nWsLWeM543yQk1Mw==')}); return false;\">2,238 people voted</a><img alt=\"Loading trans\" class=\"loading\" id=\"loading_anim_379180\" src=\"https://s.gr-assets.com/assets/loading-trans-ced157046184c3bc7c180ffbfc6825a4.gif\" style=\"display:none\"/>\n",
       "               \n",
       "              \n",
       "            </span>\n",
       "</div>\n",
       "</br></td>\n",
       "<td width=\"130px\">\n",
       "<div class=\"wtrButtonContainer wtrSignedOut\" id=\"1_book_4667024\">\n",
       "<div class=\"wtrUp wtrLeft\">\n",
       "<form accept-charset=\"UTF-8\" action=\"/shelf/add_to_shelf\" method=\"post\"><input name=\"utf8\" type=\"hidden\" value=\"✓\"/><input name=\"authenticity_token\" type=\"hidden\" value=\"Ikpr7Ab3VOwR2VJodaSf6nz0sYbJBe5UEMXeR02Y+zVLDutxCCYE9tBTU1pcA25sUibmyckhl4newILXYur06w==\"/>\n",
       "<input id=\"book_id\" name=\"book_id\" type=\"hidden\" value=\"4667024\"/>\n",
       "<input id=\"name\" name=\"name\" type=\"hidden\" value=\"to-read\"/>\n",
       "<input id=\"unique_id\" name=\"unique_id\" type=\"hidden\" value=\"1_book_4667024\"/>\n",
       "<input id=\"wtr_new\" name=\"wtr_new\" type=\"hidden\" value=\"true\"/>\n",
       "<input id=\"from_choice\" name=\"from_choice\" type=\"hidden\" value=\"false\"/>\n",
       "<input id=\"from_home_module\" name=\"from_home_module\" type=\"hidden\" value=\"false\"/>\n",
       "<input class=\"wtrLeftUpRef\" id=\"ref\" name=\"ref\" type=\"hidden\" value=\"\"/>\n",
       "<input class=\"wtrExisting\" id=\"existing_review\" name=\"existing_review\" type=\"hidden\" value=\"false\"/>\n",
       "<input id=\"page_url\" name=\"page_url\" type=\"hidden\"/>\n",
       "<button class=\"wtrToRead\" type=\"submit\">\n",
       "<span class=\"progressTrigger\">Want to Read</span>\n",
       "<span class=\"progressIndicator\">saving…</span>\n",
       "</button>\n",
       "</form>\n",
       "</div>\n",
       "<div class=\"wtrRight wtrUp\">\n",
       "<form accept-charset=\"UTF-8\" action=\"/shelf/add_to_shelf\" class=\"hiddenShelfForm\" method=\"post\"><input name=\"utf8\" type=\"hidden\" value=\"✓\"/><input name=\"authenticity_token\" type=\"hidden\" value=\"ycOJEf2Jy251YtqSz7tAbA/Rir53fy8dtL576NeuGJighwmM81ibdLTo26DmHLHqIQPd8XdbVsB6uyd4+NwXRg==\"/>\n",
       "<input id=\"unique_id\" name=\"unique_id\" type=\"hidden\" value=\"1_book_4667024\"/>\n",
       "<input id=\"book_id\" name=\"book_id\" type=\"hidden\" value=\"4667024\"/>\n",
       "<input id=\"a\" name=\"a\" type=\"hidden\"/>\n",
       "<input id=\"name\" name=\"name\" type=\"hidden\"/>\n",
       "<input id=\"from_choice\" name=\"from_choice\" type=\"hidden\" value=\"false\"/>\n",
       "<input id=\"from_home_module\" name=\"from_home_module\" type=\"hidden\" value=\"false\"/>\n",
       "<input id=\"page_url\" name=\"page_url\" type=\"hidden\"/>\n",
       "</form>\n",
       "<button class=\"wtrShelfButton\"></button>\n",
       "<div class=\"wtrShelfMenu\">\n",
       "<ul class=\"wtrExclusiveShelves\">\n",
       "<li><button class=\"wtrExclusiveShelf\" name=\"name\" type=\"submit\" value=\"to-read\">\n",
       "<span class=\"progressTrigger\">Want to Read</span>\n",
       "<img alt=\"saving…\" class=\"progressIndicator\" src=\"https://s.gr-assets.com/assets/loading-trans-ced157046184c3bc7c180ffbfc6825a4.gif\"/>\n",
       "</button>\n",
       "</li>\n",
       "<li><button class=\"wtrExclusiveShelf\" name=\"name\" type=\"submit\" value=\"currently-reading\">\n",
       "<span class=\"progressTrigger\">Currently Reading</span>\n",
       "<img alt=\"saving…\" class=\"progressIndicator\" src=\"https://s.gr-assets.com/assets/loading-trans-ced157046184c3bc7c180ffbfc6825a4.gif\"/>\n",
       "</button>\n",
       "</li>\n",
       "<li><button class=\"wtrExclusiveShelf\" name=\"name\" type=\"submit\" value=\"read\">\n",
       "<span class=\"progressTrigger\">Read</span>\n",
       "<img alt=\"saving…\" class=\"progressIndicator\" src=\"https://s.gr-assets.com/assets/loading-trans-ced157046184c3bc7c180ffbfc6825a4.gif\"/>\n",
       "</button>\n",
       "</li>\n",
       "</ul>\n",
       "</div>\n",
       "</div>\n",
       "<div class=\"ratingStars wtrRating\">\n",
       "<div class=\"starsErrorTooltip hidden\">\n",
       "Error rating book. Refresh and try again.\n",
       "</div>\n",
       "<div class=\"myRating uitext greyText\">Rate this book</div>\n",
       "<div class=\"clearRating uitext\">Clear rating</div>\n",
       "<div class=\"stars\" data-rating=\"0\" data-resource-id=\"4667024\" data-restore-rating=\"null\" data-submit-url=\"/review/rate/4667024?stars_click=true&amp;wtr_button_id=1_book_4667024\" data-user-id=\"0\"><a class=\"star off\" href=\"#\" ref=\"\" title=\"did not like it\">1 of 5 stars</a><a class=\"star off\" href=\"#\" ref=\"\" title=\"it was ok\">2 of 5 stars</a><a class=\"star off\" href=\"#\" ref=\"\" title=\"liked it\">3 of 5 stars</a><a class=\"star off\" href=\"#\" ref=\"\" title=\"really liked it\">4 of 5 stars</a><a class=\"star off\" href=\"#\" ref=\"\" title=\"it was amazing\">5 of 5 stars</a></div>\n",
       "</div>\n",
       "</div>\n",
       "</td>\n",
       "</tr>"
      ]
     },
     "execution_count": 79,
     "metadata": {},
     "output_type": "execute_result"
    }
   ],
   "source": [
    "# Inspect the first book to figure what to put in the dictionary\n",
    "product_prod = soup.find_all('tr', {'itemtype': 'http://schema.org/Book'})\n",
    "product_prod[0]"
   ]
  },
  {
   "cell_type": "code",
   "execution_count": 80,
   "id": "2bd51e94",
   "metadata": {},
   "outputs": [],
   "source": [
    "books = []\n",
    "for book in soup.find_all('tr', {'itemtype': 'http://schema.org/Book'}):\n",
    "    img_url = book.find('img')['src']\n",
    "    title = book.find('a', {'class': 'bookTitle'}).text.strip()\n",
    "    author = book.find('a', {'class': 'authorName'}).text.strip()\n",
    "    rating = book.find('span', {'class': 'minirating'}).text.strip()\n",
    "    ranking = book.find('td', {'class': 'number'}).text.strip()\n",
    "    score = book.find('a', {'href': '#'}).text.split(':')[-1].replace(',', '').strip()\n",
    "    votes = book.find_all('a', {'href': '#'})[1].text.split(' ')[-0].replace(',', '').strip()\n",
    "    books.append({'img_url': img_url,\n",
    "                  'title': title,\n",
    "                  'author': author,\n",
    "                  'rating': rating,\n",
    "                  'ranking': ranking,\n",
    "                  'score': score,\n",
    "                  'votes': votes\n",
    "                 })"
   ]
  },
  {
   "cell_type": "code",
   "execution_count": 81,
   "id": "d85bc28c",
   "metadata": {},
   "outputs": [
    {
     "data": {
      "text/plain": [
       "{'img_url': 'https://i.gr-assets.com/images/S/compressed.photo.goodreads.com/books/1622355533i/4667024._SY75_.jpg',\n",
       " 'title': 'The Help',\n",
       " 'author': 'Kathryn Stockett',\n",
       " 'rating': '4.47 avg rating — 2,588,936 ratings',\n",
       " 'ranking': '1',\n",
       " 'score': '219223',\n",
       " 'votes': '2238'}"
      ]
     },
     "execution_count": 81,
     "metadata": {},
     "output_type": "execute_result"
    }
   ],
   "source": [
    "# Look at the first book\n",
    "books[0]"
   ]
  },
  {
   "cell_type": "code",
   "execution_count": 82,
   "id": "2744147c",
   "metadata": {},
   "outputs": [],
   "source": [
    "#df = pd.DataFrame(books)"
   ]
  },
  {
   "cell_type": "code",
   "execution_count": 83,
   "id": "616a291c",
   "metadata": {},
   "outputs": [],
   "source": [
    "#df score = soup.text.split(':')[-1].replace(',', '').strip()"
   ]
  },
  {
   "cell_type": "code",
   "execution_count": 84,
   "id": "79048828",
   "metadata": {},
   "outputs": [],
   "source": [
    "# Connect to MongoDB\n",
    "client = pymongo.MongoClient('mongodb://localhost:27017/')\n",
    "db = client['books_db']\n",
    "collection = db['books_collection']"
   ]
  },
  {
   "cell_type": "code",
   "execution_count": 85,
   "id": "962f8956",
   "metadata": {},
   "outputs": [
    {
     "data": {
      "text/plain": [
       "<pymongo.results.InsertManyResult at 0x172daeb2780>"
      ]
     },
     "execution_count": 85,
     "metadata": {},
     "output_type": "execute_result"
    }
   ],
   "source": [
    "# Insert data into MongoDB\n",
    "collection.insert_many(books)"
   ]
  },
  {
   "cell_type": "code",
   "execution_count": null,
   "id": "65ad6e95",
   "metadata": {},
   "outputs": [],
   "source": []
  },
  {
   "cell_type": "code",
   "execution_count": null,
   "id": "245ca3ae",
   "metadata": {},
   "outputs": [],
   "source": []
  }
 ],
 "metadata": {
  "kernelspec": {
   "display_name": "PythonData",
   "language": "python",
   "name": "pythondata"
  },
  "language_info": {
   "codemirror_mode": {
    "name": "ipython",
    "version": 3
   },
   "file_extension": ".py",
   "mimetype": "text/x-python",
   "name": "python",
   "nbconvert_exporter": "python",
   "pygments_lexer": "ipython3",
   "version": "3.9.13"
  }
 },
 "nbformat": 4,
 "nbformat_minor": 5
}
