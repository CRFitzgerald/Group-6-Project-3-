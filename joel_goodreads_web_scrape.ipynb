{
 "cells": [
  {
   "cell_type": "code",
   "execution_count": 71,
   "id": "1277e3a7",
   "metadata": {},
   "outputs": [],
   "source": [
    "from bs4 import BeautifulSoup\n",
    "import requests\n",
    "import pymongo\n",
    "import pandas as pd"
   ]
  },
  {
   "cell_type": "code",
   "execution_count": 72,
   "id": "9ae55512",
   "metadata": {},
   "outputs": [],
   "source": [
    "url = \"https://www.goodreads.com/list/show/19.Best_for_Book_Clubs\"\n",
    "response = requests.get(url)\n",
    "soup = BeautifulSoup(response.text, 'html.parser')"
   ]
  },
  {
   "cell_type": "code",
   "execution_count": 73,
   "id": "cd88fedd",
   "metadata": {},
   "outputs": [],
   "source": [
    "#books = []\n",
    "#for book in soup.find_all('tr', {'itemtype': 'http://schema.org/Book'}):\n",
    "#    title = book.find('a', {'class': 'bookTitle'}).text.strip()\n",
    "#    author = book.find('a', {'class': 'authorName'}).text.strip()\n",
    "#    rating = book.find('span', {'class': 'minirating'}).text.strip()\n",
    "#    score = rating.split()[0] if rating else None\n",
    "#    votes = rating.split()[-2] if rating else None\n",
    "#    ranking = book.find('td', {'class': 'number'}).text.strip()\n",
    "#    books.append({'title': title, 'author': author, 'score': score, 'votes': votes, 'ranking': ranking})"
   ]
  },
  {
   "cell_type": "code",
   "execution_count": 74,
   "id": "bc9e49f5",
   "metadata": {},
   "outputs": [],
   "source": [
    "books = []\n",
    "for book in soup.find_all('tr', {'itemtype': 'http://schema.org/Book'}):\n",
    "    title = book.find('a', {'class': 'bookTitle'}).text.strip()\n",
    "    author = book.find('a', {'class': 'authorName'}).text.strip()\n",
    "    rating = book.find('span', {'class': 'minirating'}).text.strip()\n",
    "    ranking = book.find('td', {'class': 'number'}).text.strip()\n",
    "    books.append({'title': title, 'author': author, 'rating': rating, 'ranking': ranking})"
   ]
  },
  {
   "cell_type": "code",
   "execution_count": 75,
   "id": "1d0eb0a9",
   "metadata": {},
   "outputs": [
    {
     "data": {
      "text/html": [
       "<div>\n",
       "<style scoped>\n",
       "    .dataframe tbody tr th:only-of-type {\n",
       "        vertical-align: middle;\n",
       "    }\n",
       "\n",
       "    .dataframe tbody tr th {\n",
       "        vertical-align: top;\n",
       "    }\n",
       "\n",
       "    .dataframe thead th {\n",
       "        text-align: right;\n",
       "    }\n",
       "</style>\n",
       "<table border=\"1\" class=\"dataframe\">\n",
       "  <thead>\n",
       "    <tr style=\"text-align: right;\">\n",
       "      <th></th>\n",
       "      <th>title</th>\n",
       "      <th>author</th>\n",
       "      <th>rating</th>\n",
       "      <th>ranking</th>\n",
       "    </tr>\n",
       "  </thead>\n",
       "  <tbody>\n",
       "    <tr>\n",
       "      <th>0</th>\n",
       "      <td>The Help</td>\n",
       "      <td>Kathryn Stockett</td>\n",
       "      <td>4.47 avg rating — 2,588,559 ratings</td>\n",
       "      <td>1</td>\n",
       "    </tr>\n",
       "    <tr>\n",
       "      <th>1</th>\n",
       "      <td>The Kite Runner</td>\n",
       "      <td>Khaled Hosseini</td>\n",
       "      <td>4.33 avg rating — 2,938,575 ratings</td>\n",
       "      <td>2</td>\n",
       "    </tr>\n",
       "    <tr>\n",
       "      <th>2</th>\n",
       "      <td>Water for Elephants</td>\n",
       "      <td>Sara Gruen</td>\n",
       "      <td>4.10 avg rating — 1,552,328 ratings</td>\n",
       "      <td>3</td>\n",
       "    </tr>\n",
       "    <tr>\n",
       "      <th>3</th>\n",
       "      <td>The Book Thief</td>\n",
       "      <td>Markus Zusak</td>\n",
       "      <td>4.39 avg rating — 2,348,530 ratings</td>\n",
       "      <td>4</td>\n",
       "    </tr>\n",
       "    <tr>\n",
       "      <th>4</th>\n",
       "      <td>To Kill a Mockingbird</td>\n",
       "      <td>Harper Lee</td>\n",
       "      <td>4.27 avg rating — 5,657,704 ratings</td>\n",
       "      <td>5</td>\n",
       "    </tr>\n",
       "    <tr>\n",
       "      <th>...</th>\n",
       "      <td>...</td>\n",
       "      <td>...</td>\n",
       "      <td>...</td>\n",
       "      <td>...</td>\n",
       "    </tr>\n",
       "    <tr>\n",
       "      <th>95</th>\n",
       "      <td>Peace Like a River</td>\n",
       "      <td>Leif Enger</td>\n",
       "      <td>really liked it 4.00 avg rating — 87,252 ratings</td>\n",
       "      <td>96</td>\n",
       "    </tr>\n",
       "    <tr>\n",
       "      <th>96</th>\n",
       "      <td>Year of Wonders</td>\n",
       "      <td>Geraldine Brooks</td>\n",
       "      <td>4.01 avg rating — 154,707 ratings</td>\n",
       "      <td>97</td>\n",
       "    </tr>\n",
       "    <tr>\n",
       "      <th>97</th>\n",
       "      <td>Freakonomics: A Rogue Economist Explores the H...</td>\n",
       "      <td>Steven D. Levitt</td>\n",
       "      <td>really liked it 4.00 avg rating — 818,723 ratings</td>\n",
       "      <td>98</td>\n",
       "    </tr>\n",
       "    <tr>\n",
       "      <th>98</th>\n",
       "      <td>She's Come Undone</td>\n",
       "      <td>Wally Lamb</td>\n",
       "      <td>3.90 avg rating — 337,857 ratings</td>\n",
       "      <td>99</td>\n",
       "    </tr>\n",
       "    <tr>\n",
       "      <th>99</th>\n",
       "      <td>The Zombie Room</td>\n",
       "      <td>R.D. Ronald</td>\n",
       "      <td>3.74 avg rating — 27,837 ratings</td>\n",
       "      <td>100</td>\n",
       "    </tr>\n",
       "  </tbody>\n",
       "</table>\n",
       "<p>100 rows × 4 columns</p>\n",
       "</div>"
      ],
      "text/plain": [
       "                                                title            author  \\\n",
       "0                                            The Help  Kathryn Stockett   \n",
       "1                                     The Kite Runner   Khaled Hosseini   \n",
       "2                                 Water for Elephants        Sara Gruen   \n",
       "3                                      The Book Thief      Markus Zusak   \n",
       "4                               To Kill a Mockingbird        Harper Lee   \n",
       "..                                                ...               ...   \n",
       "95                                 Peace Like a River        Leif Enger   \n",
       "96                                    Year of Wonders  Geraldine Brooks   \n",
       "97  Freakonomics: A Rogue Economist Explores the H...  Steven D. Levitt   \n",
       "98                                  She's Come Undone        Wally Lamb   \n",
       "99                                    The Zombie Room       R.D. Ronald   \n",
       "\n",
       "                                               rating ranking  \n",
       "0                 4.47 avg rating — 2,588,559 ratings       1  \n",
       "1                 4.33 avg rating — 2,938,575 ratings       2  \n",
       "2                 4.10 avg rating — 1,552,328 ratings       3  \n",
       "3                 4.39 avg rating — 2,348,530 ratings       4  \n",
       "4                 4.27 avg rating — 5,657,704 ratings       5  \n",
       "..                                                ...     ...  \n",
       "95   really liked it 4.00 avg rating — 87,252 ratings      96  \n",
       "96                  4.01 avg rating — 154,707 ratings      97  \n",
       "97  really liked it 4.00 avg rating — 818,723 ratings      98  \n",
       "98                  3.90 avg rating — 337,857 ratings      99  \n",
       "99                   3.74 avg rating — 27,837 ratings     100  \n",
       "\n",
       "[100 rows x 4 columns]"
      ]
     },
     "execution_count": 75,
     "metadata": {},
     "output_type": "execute_result"
    }
   ],
   "source": [
    "df = pd.DataFrame(books)\n",
    "df"
   ]
  },
  {
   "cell_type": "code",
   "execution_count": null,
   "id": "c3b9ac46",
   "metadata": {},
   "outputs": [],
   "source": []
  },
  {
   "cell_type": "code",
   "execution_count": null,
   "id": "f4d02822",
   "metadata": {},
   "outputs": [],
   "source": []
  },
  {
   "cell_type": "code",
   "execution_count": null,
   "id": "98fabd45",
   "metadata": {},
   "outputs": [],
   "source": []
  },
  {
   "cell_type": "code",
   "execution_count": null,
   "id": "745e827c",
   "metadata": {},
   "outputs": [],
   "source": []
  },
  {
   "cell_type": "code",
   "execution_count": null,
   "id": "a5d48734",
   "metadata": {},
   "outputs": [],
   "source": []
  },
  {
   "cell_type": "code",
   "execution_count": null,
   "id": "20662e82",
   "metadata": {},
   "outputs": [],
   "source": []
  },
  {
   "cell_type": "code",
   "execution_count": null,
   "id": "891d787f",
   "metadata": {},
   "outputs": [],
   "source": []
  },
  {
   "cell_type": "code",
   "execution_count": null,
   "id": "899431a5",
   "metadata": {},
   "outputs": [],
   "source": []
  },
  {
   "cell_type": "code",
   "execution_count": null,
   "id": "0125144b",
   "metadata": {},
   "outputs": [],
   "source": []
  },
  {
   "cell_type": "code",
   "execution_count": null,
   "id": "21e68964",
   "metadata": {},
   "outputs": [],
   "source": []
  },
  {
   "cell_type": "code",
   "execution_count": null,
   "id": "57673cbc",
   "metadata": {},
   "outputs": [],
   "source": [
    "# Connect to MongoDB\n",
    "client = pymongo.MongoClient('mongodb://localhost:27017/')\n",
    "db = client['books_db']\n",
    "collection = db['books_collection']"
   ]
  },
  {
   "cell_type": "code",
   "execution_count": null,
   "id": "bc95ec08",
   "metadata": {},
   "outputs": [],
   "source": [
    "# Insert data into MongoDB\n",
    "collection.insert_many(books)"
   ]
  },
  {
   "cell_type": "code",
   "execution_count": null,
   "id": "f269d201",
   "metadata": {},
   "outputs": [],
   "source": [
    "# Retrieve data from MongoDB and create a Pandas DataFrame\n",
    "cursor = collection.find({})\n",
    "df = pd.DataFrame(list(cursor))"
   ]
  },
  {
   "cell_type": "code",
   "execution_count": null,
   "id": "4e7a98dc",
   "metadata": {},
   "outputs": [],
   "source": [
    "# Print the DataFrame\n",
    "print(df.head())"
   ]
  }
 ],
 "metadata": {
  "kernelspec": {
   "display_name": "PythonData",
   "language": "python",
   "name": "pythondata"
  },
  "language_info": {
   "codemirror_mode": {
    "name": "ipython",
    "version": 3
   },
   "file_extension": ".py",
   "mimetype": "text/x-python",
   "name": "python",
   "nbconvert_exporter": "python",
   "pygments_lexer": "ipython3",
   "version": "3.9.13"
  }
 },
 "nbformat": 4,
 "nbformat_minor": 5
}
