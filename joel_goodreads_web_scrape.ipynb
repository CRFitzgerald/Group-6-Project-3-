{
 "cells": [
  {
   "cell_type": "code",
   "execution_count": 76,
   "id": "86122198",
   "metadata": {},
   "outputs": [],
   "source": [
    "from bs4 import BeautifulSoup\n",
    "import requests\n",
    "import pymongo\n",
    "import pandas as pd"
   ]
  },
  {
   "cell_type": "code",
   "execution_count": 77,
   "id": "ae152b65",
   "metadata": {},
   "outputs": [],
   "source": [
    "url = \"https://www.goodreads.com/list/show/19.Best_for_Book_Clubs\"\n",
    "response = requests.get(url)\n",
    "soup = BeautifulSoup(response.text, 'html.parser')"
   ]
  },
  {
   "cell_type": "code",
   "execution_count": 78,
   "id": "e2dbfe64",
   "metadata": {},
   "outputs": [],
   "source": [
    "#books = []\n",
    "#for book in soup.find_all('tr', {'itemtype': 'http://schema.org/Book'}):\n",
    "#    title = book.find('a', {'class': 'bookTitle'}).text.strip()\n",
    "#    author = book.find('a', {'class': 'authorName'}).text.strip()\n",
    "#    rating = book.find('span', {'class': 'minirating'}).text.strip()\n",
    "#    score = rating.split()[0] if rating else None\n",
    "#    votes = rating.split()[-2] if rating else None\n",
    "#    ranking = book.find('td', {'class': 'number'}).text.strip()\n",
    "#    books.append({'title': title, 'author': author, 'score': score, 'votes': votes, 'ranking': ranking})"
   ]
  },
  {
   "cell_type": "code",
   "execution_count": 79,
   "id": "0cf78395",
   "metadata": {},
   "outputs": [],
   "source": [
    "books = []\n",
    "for book in soup.find_all('tr', {'itemtype': 'http://schema.org/Book'}):\n",
    "    title = book.find('a', {'class': 'bookTitle'}).text.strip()\n",
    "    author = book.find('a', {'class': 'authorName'}).text.strip()\n",
    "    rating = book.find('span', {'class': 'minirating'}).text.strip()\n",
    "    ranking = book.find('td', {'class': 'number'}).text.strip()\n",
    "    books.append({'title': title, 'author': author, 'rating': rating, 'ranking': ranking})"
   ]
  },
  {
   "cell_type": "code",
   "execution_count": null,
   "id": "98472c08",
   "metadata": {},
   "outputs": [],
   "source": [
    "<span itemprop=\"name\" role=\"heading\" aria-level=\"4\">The Road</span>"
   ]
  },
  {
   "cell_type": "code",
   "execution_count": 80,
   "id": "c0ea4c17",
   "metadata": {},
   "outputs": [
    {
     "data": {
      "text/html": [
       "<div>\n",
       "<style scoped>\n",
       "    .dataframe tbody tr th:only-of-type {\n",
       "        vertical-align: middle;\n",
       "    }\n",
       "\n",
       "    .dataframe tbody tr th {\n",
       "        vertical-align: top;\n",
       "    }\n",
       "\n",
       "    .dataframe thead th {\n",
       "        text-align: right;\n",
       "    }\n",
       "</style>\n",
       "<table border=\"1\" class=\"dataframe\">\n",
       "  <thead>\n",
       "    <tr style=\"text-align: right;\">\n",
       "      <th></th>\n",
       "      <th>title</th>\n",
       "      <th>author</th>\n",
       "      <th>rating</th>\n",
       "      <th>ranking</th>\n",
       "    </tr>\n",
       "  </thead>\n",
       "  <tbody>\n",
       "    <tr>\n",
       "      <th>0</th>\n",
       "      <td>The Help</td>\n",
       "      <td>Kathryn Stockett</td>\n",
       "      <td>4.47 avg rating — 2,588,570 ratings</td>\n",
       "      <td>1</td>\n",
       "    </tr>\n",
       "    <tr>\n",
       "      <th>1</th>\n",
       "      <td>The Kite Runner</td>\n",
       "      <td>Khaled Hosseini</td>\n",
       "      <td>4.33 avg rating — 2,938,590 ratings</td>\n",
       "      <td>2</td>\n",
       "    </tr>\n",
       "    <tr>\n",
       "      <th>2</th>\n",
       "      <td>Water for Elephants</td>\n",
       "      <td>Sara Gruen</td>\n",
       "      <td>4.10 avg rating — 1,552,335 ratings</td>\n",
       "      <td>3</td>\n",
       "    </tr>\n",
       "    <tr>\n",
       "      <th>3</th>\n",
       "      <td>The Book Thief</td>\n",
       "      <td>Markus Zusak</td>\n",
       "      <td>4.39 avg rating — 2,348,538 ratings</td>\n",
       "      <td>4</td>\n",
       "    </tr>\n",
       "    <tr>\n",
       "      <th>4</th>\n",
       "      <td>To Kill a Mockingbird</td>\n",
       "      <td>Harper Lee</td>\n",
       "      <td>4.27 avg rating — 5,657,723 ratings</td>\n",
       "      <td>5</td>\n",
       "    </tr>\n",
       "    <tr>\n",
       "      <th>...</th>\n",
       "      <td>...</td>\n",
       "      <td>...</td>\n",
       "      <td>...</td>\n",
       "      <td>...</td>\n",
       "    </tr>\n",
       "    <tr>\n",
       "      <th>95</th>\n",
       "      <td>Peace Like a River</td>\n",
       "      <td>Leif Enger</td>\n",
       "      <td>really liked it 4.00 avg rating — 87,252 ratings</td>\n",
       "      <td>96</td>\n",
       "    </tr>\n",
       "    <tr>\n",
       "      <th>96</th>\n",
       "      <td>Year of Wonders</td>\n",
       "      <td>Geraldine Brooks</td>\n",
       "      <td>4.01 avg rating — 154,707 ratings</td>\n",
       "      <td>97</td>\n",
       "    </tr>\n",
       "    <tr>\n",
       "      <th>97</th>\n",
       "      <td>Freakonomics: A Rogue Economist Explores the H...</td>\n",
       "      <td>Steven D. Levitt</td>\n",
       "      <td>really liked it 4.00 avg rating — 818,724 ratings</td>\n",
       "      <td>98</td>\n",
       "    </tr>\n",
       "    <tr>\n",
       "      <th>98</th>\n",
       "      <td>She's Come Undone</td>\n",
       "      <td>Wally Lamb</td>\n",
       "      <td>3.90 avg rating — 337,858 ratings</td>\n",
       "      <td>99</td>\n",
       "    </tr>\n",
       "    <tr>\n",
       "      <th>99</th>\n",
       "      <td>The Zombie Room</td>\n",
       "      <td>R.D. Ronald</td>\n",
       "      <td>3.74 avg rating — 27,837 ratings</td>\n",
       "      <td>100</td>\n",
       "    </tr>\n",
       "  </tbody>\n",
       "</table>\n",
       "<p>100 rows × 4 columns</p>\n",
       "</div>"
      ],
      "text/plain": [
       "                                                title            author  \\\n",
       "0                                            The Help  Kathryn Stockett   \n",
       "1                                     The Kite Runner   Khaled Hosseini   \n",
       "2                                 Water for Elephants        Sara Gruen   \n",
       "3                                      The Book Thief      Markus Zusak   \n",
       "4                               To Kill a Mockingbird        Harper Lee   \n",
       "..                                                ...               ...   \n",
       "95                                 Peace Like a River        Leif Enger   \n",
       "96                                    Year of Wonders  Geraldine Brooks   \n",
       "97  Freakonomics: A Rogue Economist Explores the H...  Steven D. Levitt   \n",
       "98                                  She's Come Undone        Wally Lamb   \n",
       "99                                    The Zombie Room       R.D. Ronald   \n",
       "\n",
       "                                               rating ranking  \n",
       "0                 4.47 avg rating — 2,588,570 ratings       1  \n",
       "1                 4.33 avg rating — 2,938,590 ratings       2  \n",
       "2                 4.10 avg rating — 1,552,335 ratings       3  \n",
       "3                 4.39 avg rating — 2,348,538 ratings       4  \n",
       "4                 4.27 avg rating — 5,657,723 ratings       5  \n",
       "..                                                ...     ...  \n",
       "95   really liked it 4.00 avg rating — 87,252 ratings      96  \n",
       "96                  4.01 avg rating — 154,707 ratings      97  \n",
       "97  really liked it 4.00 avg rating — 818,724 ratings      98  \n",
       "98                  3.90 avg rating — 337,858 ratings      99  \n",
       "99                   3.74 avg rating — 27,837 ratings     100  \n",
       "\n",
       "[100 rows x 4 columns]"
      ]
     },
     "execution_count": 80,
     "metadata": {},
     "output_type": "execute_result"
    }
   ],
   "source": [
    "df = pd.DataFrame(books)\n",
    "df"
   ]
  },
  {
   "cell_type": "code",
   "execution_count": null,
   "id": "87d700a1",
   "metadata": {},
   "outputs": [],
   "source": []
  },
  {
   "cell_type": "code",
   "execution_count": null,
   "id": "fd3b17b7",
   "metadata": {},
   "outputs": [],
   "source": []
  },
  {
   "cell_type": "code",
   "execution_count": null,
   "id": "8856af81",
   "metadata": {},
   "outputs": [],
   "source": []
  },
  {
   "cell_type": "code",
   "execution_count": null,
   "id": "e9a4d2ed",
   "metadata": {},
   "outputs": [],
   "source": []
  },
  {
   "cell_type": "code",
   "execution_count": null,
   "id": "9eae60b2",
   "metadata": {},
   "outputs": [],
   "source": []
  },
  {
   "cell_type": "code",
   "execution_count": null,
   "id": "86e63c36",
   "metadata": {},
   "outputs": [],
   "source": []
  },
  {
   "cell_type": "code",
   "execution_count": null,
   "id": "6fca3aa0",
   "metadata": {},
   "outputs": [],
   "source": []
  },
  {
   "cell_type": "code",
   "execution_count": null,
   "id": "e5b28057",
   "metadata": {},
   "outputs": [],
   "source": []
  },
  {
   "cell_type": "code",
   "execution_count": null,
   "id": "84634d0b",
   "metadata": {},
   "outputs": [],
   "source": []
  },
  {
   "cell_type": "code",
   "execution_count": null,
   "id": "cabb8488",
   "metadata": {},
   "outputs": [],
   "source": []
  },
  {
   "cell_type": "code",
   "execution_count": 81,
   "id": "5f3720e1",
   "metadata": {},
   "outputs": [],
   "source": [
    "# Connect to MongoDB\n",
    "client = pymongo.MongoClient('mongodb://localhost:27017/')\n",
    "db = client['books_db']\n",
    "collection = db['books_collection']"
   ]
  },
  {
   "cell_type": "code",
   "execution_count": 82,
   "id": "f923cec4",
   "metadata": {},
   "outputs": [
    {
     "data": {
      "text/plain": [
       "<pymongo.results.InsertManyResult at 0x16d070f3b00>"
      ]
     },
     "execution_count": 82,
     "metadata": {},
     "output_type": "execute_result"
    }
   ],
   "source": [
    "# Insert data into MongoDB\n",
    "collection.insert_many(books)"
   ]
  },
  {
   "cell_type": "code",
   "execution_count": 83,
   "id": "236723d2",
   "metadata": {},
   "outputs": [],
   "source": [
    "# Retrieve data from MongoDB and create a Pandas DataFrame\n",
    "cursor = collection.find({})\n",
    "df = pd.DataFrame(list(cursor))"
   ]
  },
  {
   "cell_type": "code",
   "execution_count": 84,
   "id": "09fdc5fa",
   "metadata": {},
   "outputs": [
    {
     "name": "stdout",
     "output_type": "stream",
     "text": [
      "                        _id                  title            author  \\\n",
      "0  64251f1343f6f90711605d5e               The Help  Kathryn Stockett   \n",
      "1  64251f1343f6f90711605d5f        The Kite Runner   Khaled Hosseini   \n",
      "2  64251f1343f6f90711605d60    Water for Elephants        Sara Gruen   \n",
      "3  64251f1343f6f90711605d61         The Book Thief      Markus Zusak   \n",
      "4  64251f1343f6f90711605d62  To Kill a Mockingbird        Harper Lee   \n",
      "\n",
      "                                rating ranking  \n",
      "0  4.47 avg rating — 2,588,570 ratings       1  \n",
      "1  4.33 avg rating — 2,938,590 ratings       2  \n",
      "2  4.10 avg rating — 1,552,335 ratings       3  \n",
      "3  4.39 avg rating — 2,348,538 ratings       4  \n",
      "4  4.27 avg rating — 5,657,723 ratings       5  \n"
     ]
    }
   ],
   "source": [
    "# Print the DataFrame\n",
    "print(df.head())"
   ]
  },
  {
   "cell_type": "code",
   "execution_count": null,
   "id": "f54a96a4",
   "metadata": {},
   "outputs": [],
   "source": []
  }
 ],
 "metadata": {
  "kernelspec": {
   "display_name": "PythonData",
   "language": "python",
   "name": "pythondata"
  },
  "language_info": {
   "codemirror_mode": {
    "name": "ipython",
    "version": 3
   },
   "file_extension": ".py",
   "mimetype": "text/x-python",
   "name": "python",
   "nbconvert_exporter": "python",
   "pygments_lexer": "ipython3",
   "version": "3.9.13"
  }
 },
 "nbformat": 4,
 "nbformat_minor": 5
}
