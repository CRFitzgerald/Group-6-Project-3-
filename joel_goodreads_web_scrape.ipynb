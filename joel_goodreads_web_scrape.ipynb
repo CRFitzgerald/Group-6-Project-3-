{
 "cells": [
  {
   "cell_type": "code",
   "execution_count": 54,
   "id": "223d5bbe",
   "metadata": {},
   "outputs": [],
   "source": [
    "from bs4 import BeautifulSoup\n",
    "import requests\n",
    "import pymongo\n",
    "import pandas as pd"
   ]
  },
  {
   "cell_type": "code",
   "execution_count": 55,
   "id": "b3af939a",
   "metadata": {},
   "outputs": [],
   "source": [
    "# Define URLs for each category\n",
    "urls = [\n",
    "    'https://www.goodreads.com/choiceawards/best-fiction-books-2022',\n",
    "    'https://www.goodreads.com/choiceawards/best-mystery-thriller-books-2022',\n",
    "    'https://www.goodreads.com/choiceawards/best-historical-fiction-books-2022',\n",
    "    'https://www.goodreads.com/choiceawards/best-fantasy-books-2022',\n",
    "    'https://www.goodreads.com/choiceawards/best-romance-books-2022',\n",
    "    'https://www.goodreads.com/choiceawards/best-science-fiction-books-2022',\n",
    "    'https://www.goodreads.com/choiceawards/best-horror-books-2022',\n",
    "    'https://www.goodreads.com/choiceawards/best-humor-books-2022',\n",
    "    'https://www.goodreads.com/choiceawards/best-nonfiction-books-2022',\n",
    "    'https://www.goodreads.com/choiceawards/best-memoir-autobiography-books-2022',\n",
    "    'https://www.goodreads.com/choiceawards/best-history-biography-books-2022',\n",
    "    'https://www.goodreads.com/choiceawards/best-graphic-novels-comics-2022',\n",
    "    'https://www.goodreads.com/choiceawards/best-poetry-books-2022',\n",
    "    'https://www.goodreads.com/choiceawards/best-debut-novel-2022',\n",
    "    'https://www.goodreads.com/choiceawards/best-young-adult-fiction-books-2022',\n",
    "    'https://www.goodreads.com/choiceawards/best-young-adult-fantasy-books-2022',\n",
    "    'https://www.goodreads.com/choiceawards/best-childrens-books-2022'\n",
    "]"
   ]
  },
  {
   "cell_type": "code",
   "execution_count": 56,
   "id": "a4c764cc",
   "metadata": {},
   "outputs": [],
   "source": [
    "# Initialize list for all books\n",
    "books = []\n",
    "\n",
    "# Scrape books from each category URL\n",
    "for url in urls:\n",
    "    response = requests.get(url)\n",
    "    soup = BeautifulSoup(response.text, 'html.parser')\n",
    "    \n",
    "    for book in soup.find_all('div', {'class': 'category clearFix'}):\n",
    "        title = book.find('h4', {'class': 'category__winnerImageTitle'}).text.strip()\n",
    "        author = book.find('a', {'class': 'category__winnerAuthor'}).text.strip()\n",
    "        rating = book.find('span', {'class': 'category__winnerStarRatingText'}).text.strip()\n",
    "        price = book.find('span', {'class': 'category__winnerPrice'})\n",
    "        price = price.text.strip() if price else None\n",
    "        review = book.find('div', {'class': 'category__winnerDescription'}).text.strip()\n",
    "        books.append({'title': title, 'author': author, 'rating': rating, 'price': price, 'review': review, 'category': url})"
   ]
  },
  {
   "cell_type": "code",
   "execution_count": 57,
   "id": "43d27eac",
   "metadata": {},
   "outputs": [
    {
     "data": {
      "text/html": [
       "<div>\n",
       "<style scoped>\n",
       "    .dataframe tbody tr th:only-of-type {\n",
       "        vertical-align: middle;\n",
       "    }\n",
       "\n",
       "    .dataframe tbody tr th {\n",
       "        vertical-align: top;\n",
       "    }\n",
       "\n",
       "    .dataframe thead th {\n",
       "        text-align: right;\n",
       "    }\n",
       "</style>\n",
       "<table border=\"1\" class=\"dataframe\">\n",
       "  <thead>\n",
       "    <tr style=\"text-align: right;\">\n",
       "      <th></th>\n",
       "    </tr>\n",
       "  </thead>\n",
       "  <tbody>\n",
       "  </tbody>\n",
       "</table>\n",
       "</div>"
      ],
      "text/plain": [
       "Empty DataFrame\n",
       "Columns: []\n",
       "Index: []"
      ]
     },
     "execution_count": 57,
     "metadata": {},
     "output_type": "execute_result"
    }
   ],
   "source": [
    "df = pd.DataFrame(books)\n",
    "df"
   ]
  },
  {
   "cell_type": "code",
   "execution_count": null,
   "id": "d65131a6",
   "metadata": {},
   "outputs": [],
   "source": [
    "# Connect to MongoDB\n",
    "#client = pymongo.MongoClient('mongodb://localhost:27017/')\n",
    "#db = client['books_db']\n",
    "#collection = db['books_collection']"
   ]
  },
  {
   "cell_type": "code",
   "execution_count": null,
   "id": "a2718493",
   "metadata": {},
   "outputs": [],
   "source": [
    "# Insert data into MongoDB\n",
    "#collection.insert_many(books)"
   ]
  },
  {
   "cell_type": "code",
   "execution_count": null,
   "id": "99cfa25b",
   "metadata": {},
   "outputs": [],
   "source": [
    "# Retrieve data from MongoDB and create a Pandas DataFrame\n",
    "#cursor = collection.find({})\n",
    "#df = pd.DataFrame(list(cursor))"
   ]
  },
  {
   "cell_type": "code",
   "execution_count": null,
   "id": "6e6df671",
   "metadata": {},
   "outputs": [],
   "source": [
    "# Print the DataFrame\n",
    "#print(df.head())"
   ]
  },
  {
   "cell_type": "code",
   "execution_count": null,
   "id": "08274987",
   "metadata": {},
   "outputs": [],
   "source": []
  }
 ],
 "metadata": {
  "kernelspec": {
   "display_name": "PythonData",
   "language": "python",
   "name": "pythondata"
  },
  "language_info": {
   "codemirror_mode": {
    "name": "ipython",
    "version": 3
   },
   "file_extension": ".py",
   "mimetype": "text/x-python",
   "name": "python",
   "nbconvert_exporter": "python",
   "pygments_lexer": "ipython3",
   "version": "3.9.13"
  }
 },
 "nbformat": 4,
 "nbformat_minor": 5
}
