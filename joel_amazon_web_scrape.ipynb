{
 "cells": [
  {
   "cell_type": "code",
   "execution_count": 41,
   "id": "df5c3649",
   "metadata": {},
   "outputs": [],
   "source": [
    "from bs4 import BeautifulSoup\n",
    "import requests\n",
    "import pymongo\n",
    "import pandas as pd"
   ]
  },
  {
   "cell_type": "code",
   "execution_count": 42,
   "id": "61bcff12",
   "metadata": {},
   "outputs": [],
   "source": [
    "HEADERS = ({'User-Agent':\n",
    "            'Mozilla/5.0 (X11; Linux x86_64) AppleWebKit/537.36 (KHTML, like Gecko) Chrome/44.0.2403.157 Safari/537.36',\n",
    "            'Accept-Language': 'en-US, en;q=0.5'})\n",
    "\n",
    "url = \"https://www.amazon.com/b/ref=s9_acss_bw_cg_BOTY2021_1b1_w?node=17296221011&pf_rd_m=ATVPDKIKX0DER&pf_rd_s=merchandised-search-7&pf_rd_r=Z2M6FVY3X0SWVHCCT7C9&pf_rd_t=101&pf_rd_p=37639f78-55c1-45ae-a9d9-3b173abecba9&pf_rd_i=17276804011\"\n",
    "webpage = requests.get(url, headers=HEADERS)\n",
    "\n",
    "soup = BeautifulSoup(webpage.content, \"lxml\")"
   ]
  },
  {
   "cell_type": "code",
   "execution_count": 43,
   "id": "acfa1895",
   "metadata": {},
   "outputs": [],
   "source": [
    "book_titles = []\n",
    "book_cover_images = []\n",
    "book_prices_whole = []\n",
    "book_prices_fraction = []\n",
    "book_authors = []\n",
    "book_ratings = []\n",
    "book_review_counts = []\n",
    "\n",
    "# find all the book elements on the page\n",
    "book_elements = soup.find_all('div', {'class': 's-include-content-margin'})\n",
    "\n",
    "for book_element in book_elements:\n",
    "    # find the book title\n",
    "    book_title = book_element.find('span', {'class': 'a-truncate-cut'})\n",
    "    if book_title:\n",
    "        book_titles.append(book_title.text.strip())\n",
    "\n",
    "    # find the book cover image\n",
    "    book_cover_image = book_element.find('img', {'class': 's-image'})\n",
    "    if book_cover_image:\n",
    "        book_cover_images.append(book_cover_image['src'])\n",
    "\n",
    "    # find the book price\n",
    "    book_price_whole = book_element.find('span', {'class': 'a-price-whole'})\n",
    "    book_price_fraction = book_element.find('span', {'class': 'a-price-fraction'})\n",
    "    if book_price_whole and book_price_fraction:\n",
    "        book_prices_whole.append(book_price_whole.text.strip())\n",
    "        book_prices_fraction.append(book_price_fraction.text.strip())\n",
    "    else:\n",
    "        book_prices_whole.append('')\n",
    "        book_prices_fraction.append('')\n",
    "\n",
    "    # find the book author\n",
    "    book_author = book_element.find('div', {'class': 'a-row a-size-base a-color-secondary'})\n",
    "    if book_author:\n",
    "        book_authors.append(book_author.text.strip())\n",
    "\n",
    "    # find the book rating and number of reviews\n",
    "    book_rating = book_element.find('span', {'class': 'a-icon-alt'})\n",
    "    book_review_count = book_element.find('span', {'class': 'a-size-base', 'dir': 'auto'})\n",
    "    if book_rating and book_review_count:\n",
    "        book_ratings.append(book_rating.text.strip())\n",
    "        book_review_counts.append(book_review_count.text.strip())\n",
    "    else:\n",
    "        book_ratings.append('')\n",
    "        book_review_counts.append('')"
   ]
  },
  {
   "cell_type": "code",
   "execution_count": 44,
   "id": "e2bb1626",
   "metadata": {},
   "outputs": [],
   "source": [
    "# create a pandas dataframe with the extracted information\n",
    "df = pd.DataFrame({\n",
    "    'Title': book_titles,\n",
    "    'Cover Image': book_cover_images,\n",
    "    'Price Whole': book_prices_whole,\n",
    "    'Price Fraction': book_prices_fraction,\n",
    "    'Author': book_authors,\n",
    "    'Rating': book_ratings,\n",
    "    'Review Count': book_review_counts\n",
    "})"
   ]
  },
  {
   "cell_type": "code",
   "execution_count": 45,
   "id": "e9a69fd8",
   "metadata": {},
   "outputs": [
    {
     "name": "stdout",
     "output_type": "stream",
     "text": [
      "Empty DataFrame\n",
      "Columns: [Title, Cover Image, Price Whole, Price Fraction, Author, Rating, Review Count]\n",
      "Index: []\n"
     ]
    }
   ],
   "source": [
    "print(df)"
   ]
  },
  {
   "cell_type": "code",
   "execution_count": 46,
   "id": "784de548",
   "metadata": {},
   "outputs": [
    {
     "data": {
      "text/html": [
       "<div>\n",
       "<style scoped>\n",
       "    .dataframe tbody tr th:only-of-type {\n",
       "        vertical-align: middle;\n",
       "    }\n",
       "\n",
       "    .dataframe tbody tr th {\n",
       "        vertical-align: top;\n",
       "    }\n",
       "\n",
       "    .dataframe thead th {\n",
       "        text-align: right;\n",
       "    }\n",
       "</style>\n",
       "<table border=\"1\" class=\"dataframe\">\n",
       "  <thead>\n",
       "    <tr style=\"text-align: right;\">\n",
       "      <th></th>\n",
       "      <th>Title</th>\n",
       "      <th>Cover Image</th>\n",
       "      <th>Price Whole</th>\n",
       "      <th>Price Fraction</th>\n",
       "      <th>Author</th>\n",
       "      <th>Rating</th>\n",
       "      <th>Review Count</th>\n",
       "    </tr>\n",
       "  </thead>\n",
       "  <tbody>\n",
       "  </tbody>\n",
       "</table>\n",
       "</div>"
      ],
      "text/plain": [
       "Empty DataFrame\n",
       "Columns: [Title, Cover Image, Price Whole, Price Fraction, Author, Rating, Review Count]\n",
       "Index: []"
      ]
     },
     "execution_count": 46,
     "metadata": {},
     "output_type": "execute_result"
    }
   ],
   "source": [
    "df"
   ]
  },
  {
   "cell_type": "code",
   "execution_count": null,
   "id": "f496b1e1",
   "metadata": {},
   "outputs": [],
   "source": []
  }
 ],
 "metadata": {
  "kernelspec": {
   "display_name": "PythonData",
   "language": "python",
   "name": "pythondata"
  },
  "language_info": {
   "codemirror_mode": {
    "name": "ipython",
    "version": 3
   },
   "file_extension": ".py",
   "mimetype": "text/x-python",
   "name": "python",
   "nbconvert_exporter": "python",
   "pygments_lexer": "ipython3",
   "version": "3.9.13"
  }
 },
 "nbformat": 4,
 "nbformat_minor": 5
}
