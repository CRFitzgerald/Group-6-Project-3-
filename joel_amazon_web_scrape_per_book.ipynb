{
 "cells": [
  {
   "cell_type": "code",
   "execution_count": 9,
   "id": "13922cc1",
   "metadata": {},
   "outputs": [],
   "source": [
    "from bs4 import BeautifulSoup\n",
    "import requests"
   ]
  },
  {
   "cell_type": "code",
   "execution_count": 10,
   "id": "200bd9ac",
   "metadata": {},
   "outputs": [],
   "source": [
    "# Function to extract Product Title\n",
    "def get_title(soup):\n",
    "    try:\n",
    "        # Outer Tag Object\n",
    "        title = soup.find(\"span\", attrs={\"id\":'productTitle'})\n",
    "\n",
    "        # Inner NavigableString Object\n",
    "        title_value = title.string\n",
    "\n",
    "        # Title as a string value\n",
    "        title_string = title_value.strip()\n",
    "\n",
    "        # # Printing types of values for efficient understanding\n",
    "        # print(type(title))\n",
    "        # print(type(title_value))\n",
    "        # print(type(title_string))\n",
    "        # print()\n",
    "\n",
    "    except AttributeError:\n",
    "        title_string = \"\"\n",
    "\n",
    "    return title_string"
   ]
  },
  {
   "cell_type": "code",
   "execution_count": 11,
   "id": "1fcde0f4",
   "metadata": {},
   "outputs": [],
   "source": [
    "# Function to extract Product Price\n",
    "def get_price(soup):\n",
    "\n",
    "    try:\n",
    "        #price = soup.find(\"span\", attrs={'id':'priceblock_ourprice'}).string.strip()\n",
    "        price = soup.find(\"span\", attrs={'class':'a-color-price'}).string.strip()\n",
    "\n",
    "    except AttributeError:\n",
    "        price = \"\"\n",
    "\n",
    "    return price\n",
    "\n",
    "\n",
    "# for books it should be \"<span class=\"a-size-base a-color-price a-color-price\"> $23.75 </span>\"\n",
    "# <span aria-hidden=\"true\">$23.75</span>"
   ]
  },
  {
   "cell_type": "code",
   "execution_count": 12,
   "id": "e2216363",
   "metadata": {},
   "outputs": [],
   "source": [
    "# Function to extract Product Rating\n",
    "def get_rating(soup):\n",
    "\n",
    "    try:\n",
    "        rating = soup.find(\"i\", attrs={'class':'a-icon a-icon-star a-star-4-5'}).string.strip()\n",
    "\n",
    "    except AttributeError:\n",
    "\n",
    "        try:\n",
    "            rating = soup.find(\"span\", attrs={'class':'a-icon-alt'}).string.strip()\n",
    "        except:\n",
    "            rating = \"\"\n",
    "\n",
    "    return rating\n",
    "\n",
    "# for books it should be \"<span id=\"acrCustomerReviewText\" class=\"a-size-base\">3,461 ratings</span>\""
   ]
  },
  {
   "cell_type": "code",
   "execution_count": 13,
   "id": "2a6c196a",
   "metadata": {},
   "outputs": [],
   "source": [
    "# Function to extract Number of User Reviews\n",
    "def get_review_count(soup):\n",
    "    try:\n",
    "        review_count = soup.find(\"span\", attrs={'id':'acrCustomerReviewText'}).string.strip()\n",
    "\n",
    "    except AttributeError:\n",
    "        review_count = \"\"\n",
    "\n",
    "    return review_count"
   ]
  },
  {
   "cell_type": "code",
   "execution_count": 14,
   "id": "a7090ab8",
   "metadata": {},
   "outputs": [],
   "source": [
    "# Function to extract Availability Status\n",
    "def get_availability(soup):\n",
    "    try:\n",
    "        available = soup.find(\"div\", attrs={'id':'availability'})\n",
    "        available = available.find(\"span\").string.strip()\n",
    "\n",
    "    except AttributeError:\n",
    "        available = \"\"\n",
    "\n",
    "    return available"
   ]
  },
  {
   "cell_type": "code",
   "execution_count": 15,
   "id": "77357d5f",
   "metadata": {},
   "outputs": [],
   "source": [
    "if __name__ == '__main__':\n",
    "    \n",
    "    # Headers for request\n",
    "    HEADERS = ({'User-Agent':\n",
    "                'Mozilla/5.0 (X11; Linux x86_64) AppleWebKit/537.36 (KHTML, like Gecko) Chrome/44.0.2403.157 Safari/537.36',\n",
    "                'Accept-Language': 'en-US, en;q=0.5'})\n",
    "\n",
    "    # The webpage URLs\n",
    "    #URL = \"https://www.amazon.com/Sony-PlayStation-Pro-1TB-Console-4/dp/B07K14XKZH/\"\n",
    "    URL = \"https://www.amazon.com/dp/0593498062/ref=s9_acsd_al_bw_c2_x_1_i?pf_rd_m=ATVPDKIKX0DER&pf_rd_s=merchandised-search-2&pf_rd_r=0TZ903RF53TR6R02J0E1&pf_rd_t=101&pf_rd_p=21304395-e505-4bf4-9631-c6972a58ae00&pf_rd_i=17296221011\"\n",
    "    "
   ]
  },
  {
   "cell_type": "code",
   "execution_count": 16,
   "id": "5e6a3970",
   "metadata": {},
   "outputs": [
    {
     "name": "stdout",
     "output_type": "stream",
     "text": [
      "Product Title = \n",
      "Product Price = \n",
      "Product Rating = \n",
      "Number of Product Reviews = \n",
      "Availability = \n",
      "\n",
      "\n"
     ]
    }
   ],
   "source": [
    "# HTTP Request\n",
    "webpage = requests.get(URL, headers=HEADERS)\n",
    "\n",
    "# Soup Object containing all data\n",
    "soup = BeautifulSoup(webpage.content, \"lxml\")\n",
    "\n",
    "# Function calls to display all necessary product information\n",
    "print(\"Product Title =\", get_title(soup))\n",
    "print(\"Product Price =\", get_price(soup))\n",
    "print(\"Product Rating =\", get_rating(soup))\n",
    "print(\"Number of Product Reviews =\", get_review_count(soup))\n",
    "print(\"Availability =\", get_availability(soup))\n",
    "print()\n",
    "print()"
   ]
  },
  {
   "cell_type": "code",
   "execution_count": null,
   "id": "930463d2",
   "metadata": {},
   "outputs": [],
   "source": []
  },
  {
   "cell_type": "code",
   "execution_count": null,
   "id": "c64b9db8",
   "metadata": {},
   "outputs": [],
   "source": []
  },
  {
   "cell_type": "code",
   "execution_count": 201,
   "id": "2841f28b",
   "metadata": {},
   "outputs": [],
   "source": [
    "if __name__ == '__main__':\n",
    "    \n",
    "    # Headers for request\n",
    "    HEADERS = ({'User-Agent':\n",
    "                'Mozilla/5.0 (X11; Linux x86_64) AppleWebKit/537.36 (KHTML, like Gecko) Chrome/44.0.2403.157 Safari/537.36',\n",
    "                'Accept-Language': 'en-US, en;q=0.5'})\n",
    "    \n",
    "    # The webpage URLs\n",
    "    urls = [\n",
    "    \"https://www.amazon.com/dp/0593321200/ref=s9_acsd_al_bw_c2_x_0_i?pf_rd_m=ATVPDKIKX0DER&pf_rd_s=merchandised-search-2&pf_rd_r=55GVBE6NMB6QG4C6KV8F&pf_rd_t=101&pf_rd_p=21304395-e505-4bf4-9631-c6972a58ae00&pf_rd_i=17296221011\",\n",
    "    \"https://www.amazon.com/dp/0593498062/ref=s9_acsd_al_bw_c2_x_1_i?pf_rd_m=ATVPDKIKX0DER&pf_rd_s=merchandised-search-2&pf_rd_r=0TZ903RF53TR6R02J0E1&pf_rd_t=101&pf_rd_p=21304395-e505-4bf4-9631-c6972a58ae00&pf_rd_i=17296221011\",\n",
    "    \"https://www.amazon.com/dp/0593138511/ref=s9_acsd_al_bw_c2_x_2_i?pf_rd_m=ATVPDKIKX0DER&pf_rd_s=merchandised-search-2&pf_rd_r=55GVBE6NMB6QG4C6KV8F&pf_rd_t=101&pf_rd_p=21304395-e505-4bf4-9631-c6972a58ae00&pf_rd_i=17296221011\",\n",
    "    \"https://www.amazon.com/dp/1668002175/ref=s9_acsd_al_bw_c2_x_3_i?pf_rd_m=ATVPDKIKX0DER&pf_rd_s=merchandised-search-2&pf_rd_r=55GVBE6NMB6QG4C6KV8F&pf_rd_t=101&pf_rd_p=21304395-e505-4bf4-9631-c6972a58ae00&pf_rd_i=17296221011\"\n",
    "    ]"
   ]
  },
  {
   "cell_type": "code",
   "execution_count": 202,
   "id": "94f927d6",
   "metadata": {},
   "outputs": [
    {
     "name": "stdout",
     "output_type": "stream",
     "text": [
      "Product Title = \n",
      "Product Price = \n",
      "Product Rating = \n",
      "Number of Product Reviews = \n",
      "Availability = \n",
      "\n",
      "\n",
      "Product Title = \n",
      "Product Price = \n",
      "Product Rating = \n",
      "Number of Product Reviews = \n",
      "Availability = \n",
      "\n",
      "\n",
      "Product Title = \n",
      "Product Price = \n",
      "Product Rating = \n",
      "Number of Product Reviews = \n",
      "Availability = \n",
      "\n",
      "\n",
      "Product Title = \n",
      "Product Price = \n",
      "Product Rating = \n",
      "Number of Product Reviews = \n",
      "Availability = \n",
      "\n",
      "\n"
     ]
    }
   ],
   "source": [
    "# HTTP Request and data extraction for each URL\n",
    "for url in urls:\n",
    "    # HTTP Request\n",
    "    webpage = requests.get(url)\n",
    "\n",
    "    # Soup Object containing all data\n",
    "    soup = BeautifulSoup(webpage.content, \"lxml\")\n",
    "\n",
    "    # Function calls to display all necessary product information\n",
    "    print(\"Product Title =\", get_title(soup))\n",
    "    print(\"Product Price =\", get_price(soup))\n",
    "    print(\"Product Rating =\", get_rating(soup))\n",
    "    print(\"Number of Product Reviews =\", get_review_count(soup))\n",
    "    print(\"Availability =\", get_availability(soup))\n",
    "    print()\n",
    "    print()"
   ]
  }
 ],
 "metadata": {
  "kernelspec": {
   "display_name": "PythonData",
   "language": "python",
   "name": "pythondata"
  },
  "language_info": {
   "codemirror_mode": {
    "name": "ipython",
    "version": 3
   },
   "file_extension": ".py",
   "mimetype": "text/x-python",
   "name": "python",
   "nbconvert_exporter": "python",
   "pygments_lexer": "ipython3",
   "version": "3.9.13"
  }
 },
 "nbformat": 4,
 "nbformat_minor": 5
}
