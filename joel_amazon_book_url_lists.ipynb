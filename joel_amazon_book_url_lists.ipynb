{
 "cells": [
  {
   "cell_type": "code",
   "execution_count": 92,
   "id": "214b44f1",
   "metadata": {},
   "outputs": [],
   "source": [
    "# Import dependencies\n",
    "from bs4 import BeautifulSoup\n",
    "import requests"
   ]
  },
  {
   "cell_type": "code",
   "execution_count": 93,
   "id": "8ec741f4",
   "metadata": {},
   "outputs": [],
   "source": [
    "if __name__ == '__main__':\n",
    "    \n",
    "    # Headers for request\n",
    "    HEADERS = ({'User-Agent':\n",
    "                'Mozilla/5.0 (X11; Linux x86_64) AppleWebKit/537.36 (KHTML, like Gecko) Chrome/44.0.2403.157 Safari/537.36',\n",
    "                'Accept-Language': 'en-US, en;q=0.5'})\n",
    "\n",
    "    # The webpage URLs\n",
    "    #URL = \"https://www.amazon.com/Sony-PlayStation-Pro-1TB-Console-4/dp/B07K14XKZH/\"\n",
    "    URL = \"https://www.amazon.com/b/ref=s9_acss_bw_cg_BOTY2021_1b1_w?node=17296221011&pf_rd_m=ATVPDKIKX0DER&pf_rd_s=merchandised-search-7&pf_rd_r=Z2M6FVY3X0SWVHCCT7C9&pf_rd_t=101&pf_rd_p=37639f78-55c1-45ae-a9d9-3b173abecba9&pf_rd_i=17276804011\"\n",
    "    "
   ]
  },
  {
   "cell_type": "code",
   "execution_count": 94,
   "id": "05cf7c12",
   "metadata": {},
   "outputs": [],
   "source": [
    "# HTTP Request\n",
    "webpage_book_list = requests.get(URL, headers=HEADERS)\n",
    "\n",
    "# Soup Object containing all data\n",
    "soup = BeautifulSoup(webpage_book_list.content, \"lxml\")"
   ]
  },
  {
   "cell_type": "code",
   "execution_count": 95,
   "id": "2f58630e",
   "metadata": {},
   "outputs": [
    {
     "name": "stdout",
     "output_type": "stream",
     "text": [
      "[]\n"
     ]
    }
   ],
   "source": [
    "all = []\n",
    "for d in soup.find_all('div', attrs={'class': 'a-section a-spacing-none aok-relative'}):\n",
    "    name = d.find('span', attrs={'class': 'zg-text-center-align'})\n",
    "    book_name = name.find('img', alt=True)\n",
    "    author_name = d.find('a', attrs={'class': 'a-size-small a-link-child'})\n",
    "    ratings = d.find('span', attrs={'class': 'a-icon-alt'})\n",
    "    rating_score = d.find('a', attrs={'class': 'a-size-small a-link-normal'})\n",
    "    book_type = d.find('span', attrs={'class': 'a-size-small a-color-secondary'})\n",
    "    price = d.find('span', attrs={'class': 'p13n-sc-price'})\n",
    "    book_link = d.find('a', attrs={'class': 'a-link-normal'})\n",
    "\n",
    "    all1 = []\n",
    "    if book_name is not None:\n",
    "        all1.append(book_name.get('alt'))\n",
    "    else:\n",
    "        all1.append('unknown')\n",
    "        print(\"book_name not found!\")\n",
    "    if author_name is not None:\n",
    "        all1.append(author_name.text)\n",
    "    else:\n",
    "        all1.append('unknown')\n",
    "        print(\"author_name not found!\")\n",
    "    if ratings is not None:\n",
    "        all1.append(ratings.text)\n",
    "    else:\n",
    "        all1.append('unknown')\n",
    "        print(\"ratings not found!\")\n",
    "    if rating_score is not None:\n",
    "        all1.append(rating_score.text)\n",
    "    else:\n",
    "        all1.append('unknown')\n",
    "        print(\"rating_score not found!\")\n",
    "    if book_type is not None:\n",
    "        all1.append(book_type.text)\n",
    "    else:\n",
    "        all1.append('unknown')\n",
    "        print(\"book_type not found!\")\n",
    "    if price is not None:\n",
    "        all1.append(price.text)\n",
    "    else:\n",
    "        all1.append('unknown')\n",
    "        print(\"price not found!\")\n",
    "    if book_link is not None:\n",
    "        all1.append('https://www.amazon.in/' + book_link.get('href'))\n",
    "    else:\n",
    "        all1.append('unknown')\n",
    "        print(\"book_link not found!\")\n",
    "    all.append(all1)\n",
    "\n",
    "print(all)\n"
   ]
  },
  {
   "cell_type": "code",
   "execution_count": 96,
   "id": "e3a05500",
   "metadata": {},
   "outputs": [
    {
     "name": "stdout",
     "output_type": "stream",
     "text": [
      "[]\n"
     ]
    }
   ],
   "source": [
    "print(all)"
   ]
  },
  {
   "cell_type": "code",
   "execution_count": null,
   "id": "c3566182",
   "metadata": {},
   "outputs": [],
   "source": []
  },
  {
   "cell_type": "code",
   "execution_count": null,
   "id": "f6e017f0",
   "metadata": {},
   "outputs": [],
   "source": []
  },
  {
   "cell_type": "code",
   "execution_count": null,
   "id": "c837732c",
   "metadata": {},
   "outputs": [],
   "source": []
  },
  {
   "cell_type": "code",
   "execution_count": null,
   "id": "e426623a",
   "metadata": {},
   "outputs": [],
   "source": []
  },
  {
   "cell_type": "code",
   "execution_count": null,
   "id": "ba693dfb",
   "metadata": {},
   "outputs": [],
   "source": []
  },
  {
   "cell_type": "code",
   "execution_count": null,
   "id": "813525ff",
   "metadata": {},
   "outputs": [],
   "source": []
  },
  {
   "cell_type": "code",
   "execution_count": null,
   "id": "31d21c23",
   "metadata": {},
   "outputs": [],
   "source": []
  },
  {
   "cell_type": "code",
   "execution_count": null,
   "id": "1e7357d0",
   "metadata": {},
   "outputs": [],
   "source": []
  },
  {
   "cell_type": "code",
   "execution_count": 90,
   "id": "bed06357",
   "metadata": {},
   "outputs": [],
   "source": [
    "all=[]\n",
    "for d in soup.find_all('div',attrs={'class':'a-section a-spacing-none aok-relative'}):\n",
    "    name=d.find('span', attrs={'class':'zg-text-center-align'})\n",
    "    book_name=name.find('img',alt=True)\n",
    "    author_name=d.find('a',attrs={'class':'a-size-small a-link-child'})\n",
    "    ratings=d.find('span',attrs={'class':'a-icon-alt'})\n",
    "    rating_score=d.find('a',attrs={'class':'a-size-small a-link-normal'})\n",
    "    book_type=d.find('span',attrs={'class':'a-size-small a-color-secondary'})\n",
    "    price=d.find('span',attrs={'class':'p13n-sc-price'})\n",
    "    book_link=d.find('a',attrs={'class':'a-link-normal'})"
   ]
  },
  {
   "cell_type": "code",
   "execution_count": 91,
   "id": "7c8c1509",
   "metadata": {},
   "outputs": [
    {
     "ename": "NameError",
     "evalue": "name 'book_name' is not defined",
     "output_type": "error",
     "traceback": [
      "\u001b[1;31m---------------------------------------------------------------------------\u001b[0m",
      "\u001b[1;31mNameError\u001b[0m                                 Traceback (most recent call last)",
      "\u001b[1;32m~\\AppData\\Local\\Temp\\ipykernel_4740\\2369775894.py\u001b[0m in \u001b[0;36m<module>\u001b[1;34m\u001b[0m\n\u001b[0;32m      1\u001b[0m \u001b[0mall1\u001b[0m\u001b[1;33m=\u001b[0m\u001b[1;33m[\u001b[0m\u001b[1;33m]\u001b[0m\u001b[1;33m\u001b[0m\u001b[1;33m\u001b[0m\u001b[0m\n\u001b[1;32m----> 2\u001b[1;33m \u001b[1;32mif\u001b[0m \u001b[0mbook_name\u001b[0m \u001b[1;32mis\u001b[0m \u001b[1;32mnot\u001b[0m \u001b[1;32mNone\u001b[0m\u001b[1;33m:\u001b[0m\u001b[1;33m\u001b[0m\u001b[1;33m\u001b[0m\u001b[0m\n\u001b[0m\u001b[0;32m      3\u001b[0m     \u001b[0mall1\u001b[0m\u001b[1;33m.\u001b[0m\u001b[0mappend\u001b[0m\u001b[1;33m(\u001b[0m\u001b[0mbook_name\u001b[0m\u001b[1;33m.\u001b[0m\u001b[0mget\u001b[0m\u001b[1;33m(\u001b[0m\u001b[1;34m'alt'\u001b[0m\u001b[1;33m)\u001b[0m\u001b[1;33m)\u001b[0m\u001b[1;33m\u001b[0m\u001b[1;33m\u001b[0m\u001b[0m\n\u001b[0;32m      4\u001b[0m \u001b[1;32melse\u001b[0m\u001b[1;33m:\u001b[0m\u001b[1;33m\u001b[0m\u001b[1;33m\u001b[0m\u001b[0m\n\u001b[0;32m      5\u001b[0m     \u001b[0mall1\u001b[0m\u001b[1;33m.\u001b[0m\u001b[0mappend\u001b[0m\u001b[1;33m(\u001b[0m\u001b[1;34m'unknown'\u001b[0m\u001b[1;33m)\u001b[0m\u001b[1;33m\u001b[0m\u001b[1;33m\u001b[0m\u001b[0m\n",
      "\u001b[1;31mNameError\u001b[0m: name 'book_name' is not defined"
     ]
    }
   ],
   "source": [
    "all1=[]\n",
    "if book_name is not None:\n",
    "    all1.append(book_name.get('alt'))\n",
    "else:\n",
    "    all1.append('unknown')\n",
    "if author_name is not None:\n",
    "    all1.append(author_name.text)\n",
    "else:\n",
    "    all1.append('unknown')\n",
    "if ratings is not None:\n",
    "    all1.append(ratings.text)\n",
    "else:\n",
    "    all1.append('unknown')\n",
    "if rating_score is not None:\n",
    "    all1.append(rating_score.text)\n",
    "else:\n",
    "    all1.append('unknown')\n",
    "if book_type is not None:\n",
    "    all1.append(book_type.text)\n",
    "else:\n",
    "    all1.append('unknown')\n",
    "if price is not None:\n",
    "    all1.append(price.text)\n",
    "else:\n",
    "    all1.append('unknown')\n",
    "if book_link is not None:\n",
    "    all1.append('https://www.amazon.in/'+book_link.get('href'))\n",
    "else:\n",
    "    all1.append('unknown')\n",
    "    all.append(all1)\n",
    "        \n",
    "return all"
   ]
  },
  {
   "cell_type": "code",
   "execution_count": null,
   "id": "dfbcdb6c",
   "metadata": {},
   "outputs": [],
   "source": []
  },
  {
   "cell_type": "code",
   "execution_count": null,
   "id": "ab94bd11",
   "metadata": {},
   "outputs": [],
   "source": []
  },
  {
   "cell_type": "code",
   "execution_count": null,
   "id": "9e9c78a8",
   "metadata": {},
   "outputs": [],
   "source": [
    "\n"
   ]
  }
 ],
 "metadata": {
  "kernelspec": {
   "display_name": "PythonData",
   "language": "python",
   "name": "pythondata"
  },
  "language_info": {
   "codemirror_mode": {
    "name": "ipython",
    "version": 3
   },
   "file_extension": ".py",
   "mimetype": "text/x-python",
   "name": "python",
   "nbconvert_exporter": "python",
   "pygments_lexer": "ipython3",
   "version": "3.9.13"
  }
 },
 "nbformat": 4,
 "nbformat_minor": 5
}
